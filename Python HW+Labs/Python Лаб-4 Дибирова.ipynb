{
  "cells": [
    {
      "cell_type": "markdown",
      "metadata": {
        "id": "D68wVQQEMmAr"
      },
      "source": [
        "## Лабораторная работа №4: работа с текстовыми файлами\n",
        "\n",
        "Для выполнения этой работы необходимо:\n",
        "\n",
        "* уметь считывать текстовые данные из txt-файлов;\n",
        "* уметь записывать текстовые данные в txt-файлы.\n",
        "\n",
        "С необходимыми материалами можно ознакомиться на странице курса или в теме 9 онлайн-курса «Python как иностранный» (из онлайн-курса достаточно посмотреть первые две части, *Введение в работу с файлами* и *Пример работы с неструктурированным файлом*).\n",
        "\n",
        "**За разные задачи можно получить разное число баллов. Чтобы получить оценку 10, необходимо набрать 5 баллов, то есть корректно выполнить все задачи.**\n",
        "\n",
        "Задача считается решенной, если код успешно проходит автоматические тесты и не содержит грубых нарушений («подгонка» под тесты, копирование кода другого студента). «Подгонка» под тесты – написание кода не для общего случая, а для соответствия конкретным значениям в ячейке с тестами. Пример: пишем не универсальный код для проверки четности числа, а код, который правильно работает только на числах 2, 5, 8, потому что именно эти числа используются в `test_data` ."
      ]
    },
    {
      "cell_type": "markdown",
      "metadata": {
        "id": "Kt2AzPfxMmAx"
      },
      "source": [
        "### Формат сдачи\n",
        "\n",
        "Для сдачи лабораторной работы необходимо скачать текущий ipynb-файл, вписать в него свои решения, сохранить изменения и загрузить обновленный файл на Dropbox по предложенной на странице курса ссылке. Иметь аккаунт Dropbox для этого не требуется, достаточно пройти по ссылке и выбрать файл на компьютере.\n",
        "\n",
        "Получить ipynb-файл можно, выбрав в Jupyter пункт меню *File → Download as... → Notebook (.ipynb)*."
      ]
    },
    {
      "cell_type": "markdown",
      "metadata": {
        "id": "IWm03YDQMmAx"
      },
      "source": [
        "### Тесты для проверки кода\n",
        "\n",
        "На первом этапе проверки ваши решения в домашних заданиях и лабораторных работах будут проверяться с помощью автоматических тестов – ячеек с кодом, которые проверяют соответствие результатов исполнения ваших программ ожидаемым результатам в условиях задач. Эти тесты можно использовать для проверки кода перед сдачей задания.\n",
        "\n",
        "Итак, для предварительной проверки задания нужно сделать следующее:\n",
        "\n",
        "1. Скачать данный ipynb-файл на свой компьютер, открыть его в Jupyter Notebook.\n",
        "2. Активировать тесты (см. ниже).\n",
        "3. Вставить решение каждой задачи в ячейку для кода, следующую за его условием, там, где написан комментарий `# YOUR CODE HERE`. Отступ вашего кода должен составлять 4 пробела. Ничего не менять вокруг!\n",
        "4. Запустить ячейку, в которую вы вставили код с решением. Ввести какие-то входные данные, проверить визуально правильность вывода.\n",
        "5. Запустить следующую ячейку (в ней содержится тест). Если запуск ячейки с тестом не приводит к появлению ошибки (`assertion`), значит, всё в порядке, задача решена. Если приводит к появлению ошибки, значит, тест не пройден и нужно искать ошибку.\n",
        "\n",
        "Внимание! Если в какой-то момент забыть ввести входные данные и перейти на следующую ячейку, есть риск, что Notebook перестанет откликаться. В этом случае надо перезапустить ядро: *Kernel → Restart*. При этом потеряются все значения переменных, но сам код останется."
      ]
    },
    {
      "cell_type": "markdown",
      "metadata": {
        "id": "K5UQlW3xMmAy"
      },
      "source": [
        "### Активировать тесты\n",
        "\n",
        "Запустите следующую ячейку, чтобы иметь возможность запускать тесты."
      ]
    },
    {
      "cell_type": "code",
      "execution_count": 1,
      "metadata": {
        "id": "a1p_EBsAMmAz"
      },
      "outputs": [],
      "source": [
        "# Фабрика тестов для проверки программ, принимающих данные через input()\n",
        "\n",
        "from collections import deque\n",
        "\n",
        "class Tester(object):\n",
        "    def __init__(self, inp):\n",
        "        self.outputs = []\n",
        "        self.inputs = deque(inp)\n",
        "    def print(self, *args, sep = \" \", end = \"\\n\"):\n",
        "        text = sep.join(map(str, args)) + end\n",
        "        newlines = text.splitlines(keepends=True)\n",
        "        if self.outputs and self.outputs[-1] and self.outputs[-1][-1] != \"\\n\" and newlines:\n",
        "            self.outputs[-1] += newlines[0]\n",
        "            self.outputs.extend(newlines[1:])\n",
        "        else:\n",
        "            self.outputs.extend(newlines)\n",
        "\n",
        "    def input(self, *args):\n",
        "        assert self.inputs, \"Вы пытаетесь считать больше элементов, чем предусмотрено условием\"\n",
        "        return self.inputs.popleft()\n",
        "    def __enter__(self):\n",
        "        global print\n",
        "        global input\n",
        "        print = self.print\n",
        "        input = self.input\n",
        "        return self.outputs\n",
        "    def __exit__(self, *args):\n",
        "        global print\n",
        "        global input\n",
        "        del print\n",
        "        del input"
      ]
    },
    {
      "cell_type": "markdown",
      "metadata": {
        "id": "kzzYO50iMmA1"
      },
      "source": [
        "### Задача 1 (2 балла)\n",
        "\n",
        "В текстовом файле находятся записи, содержащие заклинания. Помогите посчитать длину каждого заклинания.\n",
        "\n",
        "**Формат ввода**\n",
        "\n",
        "Текстовый файл `incantations.txt` с кодировкой UTF-8, в котором записаны заклинания (одна строка – одно заклинание, заклинание может содержать более одного слова через пробел).\n",
        "\n",
        "**Формат вывода**\n",
        "\n",
        "Словарь, где ключи — заклинания, а значения — число слов в каждом заклинании. Заклинания должны быть добавлены в словарь в том же порядке, в каком они встречались в оригинальном файле.\n",
        "\n",
        "**Фрагмент ожидаемого вывода (первые несколько элементов для примера)**\n",
        "\n",
        "    {'Accio': 1, 'Alohomora': 1, 'Aguamenti': 1, 'Anapneo': 1, 'Arania Exumai': 2, 'Arresto Momentum': 2, 'Avada kedavra': 2, 'Avis': 1, 'Bombarda': 1, 'Bombarda Maxima': 2, ...}"
      ]
    },
    {
      "cell_type": "code",
      "execution_count": 26,
      "metadata": {
        "colab": {
          "base_uri": "https://localhost:8080/"
        },
        "id": "fNYvlClYMmA1",
        "outputId": "20f5f71d-2eaf-43bd-e213-c63c47571343"
      },
      "outputs": [
        {
          "output_type": "stream",
          "name": "stdout",
          "text": [
            "{'Accio': 1, 'Alohomora': 1, 'Aguamenti': 1, 'Anapneo': 1, 'Arania Exumai': 2, 'Arresto Momentum': 2, 'Avada kedavra': 2, 'Avis': 1, 'Bombarda': 1, 'Bombarda Maxima': 2, 'Colloportus': 1, 'Confundus': 1, 'Cruciatus': 1, 'Desangueo': 1, 'Dissendium': 1, 'Engorgio': 1, 'Episkey': 1, 'Expecto Patronum': 2, 'Expelliarmus': 1, 'Ferula': 1, 'Finita Incantatem': 2, 'Flipendo': 1, 'Glisseo': 1, 'Impedimenta': 1, 'Impervius': 1, 'Imperius': 1, 'Immobilus': 1, 'Incarcero': 1, 'Incendio': 1, 'Inflamare': 1, 'Legitimence': 1, 'Levicorpus': 1, 'Liberacorpus': 1, 'Locomotor Mortis': 2, 'Lumos': 1, 'Mobiliarbus': 1, 'Morsemordre': 1, 'Muffliato': 1, 'Nox': 1, 'Obliviate': 1, 'Obscuro': 1, 'Opugno': 1, 'Orchideous': 1, 'Petrificus Totalus': 2, 'Piertotum Locomotor': 2, 'Priori Incantatem': 2, 'Protego': 1, 'Protego Maxima': 2, 'Reducio': 1, 'Reducto': 1, 'Relashio': 1, 'Reparo': 1, 'Rictusempra': 1, 'Riddikulus': 1, 'Sectumsempra': 1, 'Serpensortia': 1, 'Silencio': 1, 'Sonorus': 1, 'Stupefy': 1, 'Tarantellegra': 1, 'Tergeo': 1, 'Vera Verto': 2, 'Vermilliuos': 1, 'Vipera Evanesco': 2, 'Waddiwassi': 1, 'Wingardium leviosa': 2}\n"
          ]
        }
      ],
      "source": [
        "def problem_spells01():\n",
        "\n",
        "    ### YOUR CODE HERE\n",
        "    text = open('incantations.txt','r',encoding='UTF-8').readlines()\n",
        "    text = [i.strip('\\n') for i in text]\n",
        "\n",
        "    list = []\n",
        "    for line in text:\n",
        "      if line in list:\n",
        "        continue\n",
        "      else:\n",
        "        list.append(line)\n",
        "    dictionary = dict.fromkeys(list)\n",
        "\n",
        "    for key in dictionary:\n",
        "      dictionary[key] = len(key.split())\n",
        "\n",
        "    print(dictionary)\n",
        "problem_spells01()"
      ]
    },
    {
      "cell_type": "code",
      "execution_count": 27,
      "metadata": {
        "id": "olJbUcPVMmA2"
      },
      "outputs": [],
      "source": [
        "test_data = [(\"\", \"{'Accio': 1, 'Alohomora': 1, 'Aguamenti': 1, 'Anapneo': 1, 'Arania Exumai': 2, 'Arresto Momentum': 2, 'Avada kedavra': 2, 'Avis': 1, 'Bombarda': 1, 'Bombarda Maxima': 2, 'Colloportus': 1, 'Confundus': 1, 'Cruciatus': 1, 'Desangueo': 1, 'Dissendium': 1, 'Engorgio': 1, 'Episkey': 1, 'Expecto Patronum': 2, 'Expelliarmus': 1, 'Ferula': 1, 'Finita Incantatem': 2, 'Flipendo': 1, 'Glisseo': 1, 'Impedimenta': 1, 'Impervius': 1, 'Imperius': 1, 'Immobilus': 1, 'Incarcero': 1, 'Incendio': 1, 'Inflamare': 1, 'Legitimence': 1, 'Levicorpus': 1, 'Liberacorpus': 1, 'Locomotor Mortis': 2, 'Lumos': 1, 'Mobiliarbus': 1, 'Morsemordre': 1, 'Muffliato': 1, 'Nox': 1, 'Obliviate': 1, 'Obscuro': 1, 'Opugno': 1, 'Orchideous': 1, 'Petrificus Totalus': 2, 'Piertotum Locomotor': 2, 'Priori Incantatem': 2, 'Protego': 1, 'Protego Maxima': 2, 'Reducio': 1, 'Reducto': 1, 'Relashio': 1, 'Reparo': 1, 'Rictusempra': 1, 'Riddikulus': 1, 'Sectumsempra': 1, 'Serpensortia': 1, 'Silencio': 1, 'Sonorus': 1, 'Stupefy': 1, 'Tarantellegra': 1, 'Tergeo': 1, 'Vera Verto': 2, 'Vermilliuos': 1, 'Vipera Evanesco': 2, 'Waddiwassi': 1, 'Wingardium leviosa': 2}\")]\n",
        "\n",
        "for inp, out in test_data:\n",
        "    with Tester([inp]) as t:\n",
        "        problem_spells01()\n",
        "        assert len(t) == 1, \"Неверный ответ\"\n",
        "        assert t[0] == out+\"\\n\", \"Неверный ответ\""
      ]
    },
    {
      "cell_type": "markdown",
      "metadata": {
        "id": "vGQle2ItMmA2"
      },
      "source": [
        "### Задача 2 (3 балла)\n",
        "\n",
        "В текстовом файле находятся записи, содержащие заклинания. Помогите найти заклинания, начинающиеся с желаемой буквы.\n",
        "\n",
        "**Формат ввода**\n",
        "\n",
        "* Текстовый файл `incantations.txt` с кодировкой UTF-8, в котором записаны заклинания (одна строка – одно заклинание, заклинание может содержать более одного слова через пробел).\n",
        "* Строка, содержащая букву, с которой должно начинаться заклинание (может быть заглавной или строчной).\n",
        "\n",
        "**Формат вывода**\n",
        "\n",
        "* Текстовый файл `filtered.txt` с кодировкой UTF-8, в котором хранятся записи вида `<заклинание>,<число слов>` для заклинаний, начинающихся с желаемой буквы.\n",
        "\n",
        "**Пример работы программы:**\n",
        "\n",
        "Ввод:\n",
        "\n",
        "    e\n",
        "\n",
        "Результат (содержимое файла):\n",
        "\n",
        "    Engorgio,1\n",
        "    Episkey,1\n",
        "    Expecto Patronum,2\n",
        "    Expelliarmus,1\n",
        "    \n",
        "Ввод:\n",
        "\n",
        "    L\n",
        "    \n",
        "Результат (содержимое файла):\n",
        "\n",
        "    Legitimence,1\n",
        "    Levicorpus,1\n",
        "    Liberacorpus,1\n",
        "    Locomotor Mortis,2\n",
        "    Lumos,1"
      ]
    },
    {
      "cell_type": "code",
      "execution_count": 49,
      "metadata": {
        "colab": {
          "base_uri": "https://localhost:8080/"
        },
        "id": "5__7DWj5MmA2",
        "outputId": "fdfd1152-51ba-47f4-db35-24513a4c208d"
      },
      "outputs": [
        {
          "name": "stdout",
          "output_type": "stream",
          "text": [
            "e\n"
          ]
        }
      ],
      "source": [
        "def problem_spells02():\n",
        "\n",
        "     ### YOUR CODE HERE\n",
        "     letter = str(input()).upper()\n",
        "     text = open('incantations.txt','r',encoding='UTF-8').readlines()\n",
        "     text = [i.strip('\\n') for i in text]\n",
        "\n",
        "     list=[]\n",
        "     for line in text:\n",
        "      if line.startswith(letter):\n",
        "        list.append(line)\n",
        "\n",
        "     list2=[len(i.split()) for i in list]\n",
        "\n",
        "     file02 = open(\"filtered.txt\", \"w\")\n",
        "     for i in list:\n",
        "      print(i,',',list2[list.index(i)],sep='', file = file02)\n",
        "     file02.close()\n",
        "problem_spells02()"
      ]
    },
    {
      "cell_type": "markdown",
      "metadata": {
        "id": "p7Ew6CZ9MmA3"
      },
      "source": [
        "Автоматического теста здесь нет, результат будет проверяться вручную (ваш код запускается, полученный с его помощью файл `filtered.txt` открывается и просматривается)."
      ]
    }
  ],
  "metadata": {
    "kernelspec": {
      "display_name": "Python 3",
      "language": "python",
      "name": "python3"
    },
    "language_info": {
      "codemirror_mode": {
        "name": "ipython",
        "version": 3
      },
      "file_extension": ".py",
      "mimetype": "text/x-python",
      "name": "python",
      "nbconvert_exporter": "python",
      "pygments_lexer": "ipython3",
      "version": "3.7.4"
    },
    "colab": {
      "provenance": []
    }
  },
  "nbformat": 4,
  "nbformat_minor": 0
}