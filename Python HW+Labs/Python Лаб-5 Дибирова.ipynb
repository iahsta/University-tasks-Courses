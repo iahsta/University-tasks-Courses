{
  "cells": [
    {
      "cell_type": "markdown",
      "metadata": {
        "id": "GNL5iP6DN7kG"
      },
      "source": [
        "## Лабораторная работа №5: работа с функциями\n",
        "\n",
        "Для выполнения этой работы необходимо уметь писать пользовательские функции.\n",
        "\n",
        "С необходимыми материалами можно ознакомиться на странице курса или в теме 8 онлайн-курса «Python как иностранный» (из раздела онлайн-курса достаточно посмотреть первую часть).\n",
        "\n",
        "**За разные задачи можно получить разное число баллов. Чтобы получить оценку 10, необходимо набрать 5 баллов, то есть корректно выполнить все задачи.**\n",
        "\n",
        "Задача считается решенной, если код успешно проходит автоматические тесты и не содержит грубых нарушений («подгонка» под тесты, копирование кода другого студента). «Подгонка» под тесты – написание кода не для общего случая, а для соответствия конкретным значениям в ячейке с тестами.\n",
        "\n",
        "**Важно:** так как в этом задании нет задач, предполагающих ввод пользователя с клавиатуры, ниже нет привычной ячейки с классом `Tester`. Это нормально, в данном случае достаточно сравнить результат исполнения ваших функций с ожидаемым результатом через конструкцию `assert` и обычное условие для проверки равенства."
      ]
    },
    {
      "cell_type": "markdown",
      "metadata": {
        "id": "IzCWLzGcN7kQ"
      },
      "source": [
        "### Задача 1. Дивный новый мир (1 балл)\n",
        "\n",
        "Напишите функцию `hello_world()`, которая принимает на вход имя человека и возвращает строку с приветствием, состоящую из слова *Hello*, имени, числа символов в имени и восклицательного знака в конце.\n",
        "\n",
        "**Примеры работы программы**\n",
        "\n",
        "Запуск функции:\n",
        "\n",
        "    hello_world(\"Alla\")   \n",
        "\n",
        "Результат:\n",
        "\n",
        "    Hello, Alla4!\n",
        "    \n",
        "Запуск функции:\n",
        "\n",
        "    hello_world(\"Alligator\")\n",
        "    \n",
        "Результат:\n",
        "\n",
        "    Hello, Alligator9!\n",
        "    \n",
        "Запуск функции:\n",
        "\n",
        "    hello_world(\"Python\")\n",
        "    \n",
        "\n",
        "Результат:\n",
        "\n",
        "    Hello, Python6!    "
      ]
    },
    {
      "cell_type": "code",
      "source": [
        "def hello_world(a):\n",
        "  k = ''.join(['Hello, ',a+str(len(a)),'!'])\n",
        "  return k"
      ],
      "metadata": {
        "id": "aMO0IhR_OUx6"
      },
      "execution_count": 103,
      "outputs": []
    },
    {
      "cell_type": "code",
      "source": [
        "hello_world('Alligator')"
      ],
      "metadata": {
        "colab": {
          "base_uri": "https://localhost:8080/",
          "height": 35
        },
        "id": "w4RSLjCuP9iK",
        "outputId": "a5f9cd1d-ddb6-4525-9f64-798d00bef615"
      },
      "execution_count": 104,
      "outputs": [
        {
          "output_type": "execute_result",
          "data": {
            "text/plain": [
              "'Hello, Alligator9!'"
            ],
            "application/vnd.google.colaboratory.intrinsic+json": {
              "type": "string"
            }
          },
          "metadata": {},
          "execution_count": 104
        }
      ]
    },
    {
      "cell_type": "code",
      "execution_count": 105,
      "metadata": {
        "id": "LVES6-djN7kT"
      },
      "outputs": [],
      "source": [
        "assert hello_world(\"Alla\") == \"Hello, Alla4!\", \"Неверно\"\n",
        "assert hello_world(\"Python\") == \"Hello, Python6!\", \"Неверно\"\n",
        "assert hello_world(\"Alligator\") == \"Hello, Alligator9!\", \"Неверно\"\n",
        "assert hello_world(\"Cat\") == \"Hello, Cat3!\", \"Неверно\""
      ]
    },
    {
      "cell_type": "markdown",
      "metadata": {
        "id": "_OM7evmSN7kX"
      },
      "source": [
        "### Задача 2. Just function (2 балла)\n",
        "\n",
        "Напишите функцию `geom_mean()`, которая принимает на вход три целых числа и возвращает их среднее геометрическое, округленное до второго знака после запятой. Если хотя бы одно из чисел отрицательно, функция возвращает пустой результат `None`.\n",
        "\n",
        "Если забыли, что такое среднее геометрическое – см. [здесь](https://ru.wikipedia.org/wiki/%D0%A1%D1%80%D0%B5%D0%B4%D0%BD%D0%B5%D0%B5_%D0%B3%D0%B5%D0%BE%D0%BC%D0%B5%D1%82%D1%80%D0%B8%D1%87%D0%B5%D1%81%D0%BA%D0%BE%D0%B5).\n",
        "\n",
        "**Пример работы программы**\n",
        "\n",
        "Запуск функции:\n",
        "\n",
        "    geom_mean(1, 5, 8)\n",
        "\n",
        "Результат:\n",
        "\n",
        "    6.32\n",
        "\n",
        "Запуск функции:\n",
        "\n",
        "    geom_mean(0, 6, 7)\n",
        "\n",
        "Результат:\n",
        "\n",
        "    0.0\n",
        "\n",
        "Запуск функции:\n",
        "\n",
        "    geom_mean(-1, 5, 8)\n",
        "\n",
        "Результат:\n",
        "\n",
        "    None"
      ]
    },
    {
      "cell_type": "code",
      "source": [
        "def geom_mean(a,b,c):\n",
        "  if a <0 or b <0 or c<0:\n",
        "    print('None')\n",
        "  else:\n",
        "     return round((a*b*c)**(1/3),2)"
      ],
      "metadata": {
        "id": "nXy5Y5GDVFvb"
      },
      "execution_count": 106,
      "outputs": []
    },
    {
      "cell_type": "code",
      "source": [
        "geom_mean(1,5,8)"
      ],
      "metadata": {
        "colab": {
          "base_uri": "https://localhost:8080/"
        },
        "id": "7rvZNrqKVtvl",
        "outputId": "19a11eaf-53d7-402e-e5f3-01de4e955696"
      },
      "execution_count": 107,
      "outputs": [
        {
          "output_type": "execute_result",
          "data": {
            "text/plain": [
              "3.42"
            ]
          },
          "metadata": {},
          "execution_count": 107
        }
      ]
    },
    {
      "cell_type": "code",
      "execution_count": 108,
      "metadata": {
        "colab": {
          "base_uri": "https://localhost:8080/"
        },
        "id": "p1SIYU_DN7kY",
        "outputId": "6fca62dc-7275-4961-c4c3-5101c2700d6a"
      },
      "outputs": [
        {
          "output_type": "stream",
          "name": "stdout",
          "text": [
            "None\n",
            "None\n",
            "None\n",
            "None\n"
          ]
        }
      ],
      "source": [
        "assert geom_mean(0, 6, 7) == 0.0, \"Неверно\"\n",
        "assert geom_mean(1, 5, 8) == 3.42, \"Неверно\"\n",
        "assert geom_mean(25, 34, 100) == 43.97, \"Неверно\"\n",
        "assert geom_mean(-1, 5, 8) == None, \"Неверно\"\n",
        "assert geom_mean(-1, -5, 8) == None, \"Неверно\"\n",
        "assert geom_mean(-1, -5, -8) == None, \"Неверно\"\n",
        "assert geom_mean(25, 0, -100) == None, \"Неверно\""
      ]
    },
    {
      "cell_type": "markdown",
      "metadata": {
        "id": "AG-_ashrN7kZ"
      },
      "source": [
        "### Задача 3. Дикие лебеди (2 балла)\n",
        "\n",
        "Элиза, чьих 11 братьев злая королева-мачеха превратила в диких лебедей, решила проверить, кто из лебедей действительно является её братом.\n",
        "\n",
        "Реализуйте программу, которая определяет, является ли лебедь братом Элизы или нет, и возвращает список имён братьев. Определите функцию `detector()`, которая принимает два аргумента:\n",
        "\n",
        "* `brothers` — список имён братьев (строки), который может быть пустым.\n",
        "* `new` — новое имя (строка).\n",
        "\n",
        "Если список `brothers` уже состоит из 11 элементов или если имя `new` в этом списке уже есть, функция возвращает кортеж из оригинального списка `brothers` и слова `\"пернатый\"`. В обратном случае функция добавляет имя `new` в список `brothers` и возвращает кортеж из обновлённого списка `brothers` и слова `\"брат\"`.\n",
        "\n",
        "**Примеры работы программы:**\n",
        "\n",
        "Ввод:\n",
        "     \n",
        "     detector([\"A\", \"B\", \"C\", \"D\", \"E\", \"F\", \"G\", \"H\", \"I\", \"J\", \"R\"], \"лебедь\")\n",
        "\n",
        "\n",
        "Результат:\n",
        "\n",
        "    (['A', 'B', 'C', 'D', 'E', 'F', 'G', 'H', 'I', 'J', 'R'], 'пернатый')\n",
        "    \n",
        "Ввод:\n",
        "     \n",
        "     detector([\"A\", \"B\", \"C\", \"D\", \"E\", \"F\", \"G\", \"H\"], \"лебедь\")\n",
        "\n",
        "\n",
        "Результат:\n",
        "\n",
        "    (['A', 'B', 'C', 'D', 'E', 'F', 'G', 'H', 'лебедь'], 'брат')\n",
        "    \n",
        "    \n",
        "Ввод:\n",
        "     \n",
        "     detector([\"A\", \"B\", \"C\", \"D\", \"E\", \"F\", \"G\", \"H\"], \"H\")\n",
        "\n",
        "\n",
        "Результат:\n",
        "\n",
        "    (['A', 'B', 'C', 'D', 'E', 'F', 'G', 'H'], 'пернатый')"
      ]
    },
    {
      "cell_type": "code",
      "source": [
        "def detector(brothers,new):\n",
        "  if new in brothers or len(brothers) >= 11:\n",
        "    return (brothers,'пернатый')\n",
        "  else:\n",
        "    brothers.append(new)\n",
        "    return (brothers,'брат')\n"
      ],
      "metadata": {
        "id": "suC9TRpNZ7d5"
      },
      "execution_count": 109,
      "outputs": []
    },
    {
      "cell_type": "code",
      "source": [
        "detector([\"A\", \"B\", \"C\", \"D\", \"E\", \"F\", \"G\", \"H\"], \"лебедь\")"
      ],
      "metadata": {
        "colab": {
          "base_uri": "https://localhost:8080/"
        },
        "id": "cgNyAbT_bdz4",
        "outputId": "673dad2a-08c2-4ff3-e253-6672bc478861"
      },
      "execution_count": 110,
      "outputs": [
        {
          "output_type": "execute_result",
          "data": {
            "text/plain": [
              "(['A', 'B', 'C', 'D', 'E', 'F', 'G', 'H', 'лебедь'], 'брат')"
            ]
          },
          "metadata": {},
          "execution_count": 110
        }
      ]
    },
    {
      "cell_type": "code",
      "execution_count": 111,
      "metadata": {
        "id": "-Duc-nQoN7ka"
      },
      "outputs": [],
      "source": [
        "assert detector([\"A\", \"B\", \"C\", \"D\", \"E\", \"F\", \"G\", \"H\", \"I\", \"J\", \"R\"], \"лебедь\") == (['A', 'B', 'C', 'D', 'E', 'F', 'G', 'H', 'I', 'J', 'R'], 'пернатый'), \"Неверно\"\n",
        "assert detector([\"A\", \"B\", \"C\", \"D\", \"E\", \"F\", \"G\", \"H\"], \"лебедь\") == (['A', 'B', 'C', 'D', 'E', 'F', 'G', 'H', 'лебедь'], 'брат'), \"Неверно\"\n",
        "assert detector([\"A\", \"B\", \"C\", \"D\", \"E\", \"F\", \"G\", \"H\"], \"H\") == (['A', 'B', 'C', 'D', 'E', 'F', 'G', 'H'], 'пернатый'), \"Неверно\""
      ]
    }
  ],
  "metadata": {
    "kernelspec": {
      "display_name": "Python 3",
      "language": "python",
      "name": "python3"
    },
    "language_info": {
      "codemirror_mode": {
        "name": "ipython",
        "version": 3
      },
      "file_extension": ".py",
      "mimetype": "text/x-python",
      "name": "python",
      "nbconvert_exporter": "python",
      "pygments_lexer": "ipython3",
      "version": "3.7.4"
    },
    "colab": {
      "provenance": []
    }
  },
  "nbformat": 4,
  "nbformat_minor": 0
}