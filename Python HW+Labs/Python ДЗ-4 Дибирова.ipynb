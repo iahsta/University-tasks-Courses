{
  "cells": [
    {
      "cell_type": "markdown",
      "metadata": {
        "id": "369CuRZCgcs5"
      },
      "source": [
        "# Программирование для всех <br>(основы работы с Python)\n",
        "\n",
        "*Автор задач: Тамбовцева А.А.*\n",
        "\n",
        "## Домашнее задание №4\n",
        "\n",
        "**За разные задачи можно получить разное число баллов. Если не указано обратное, задача весит 1 балл. Чтобы получить оценку 10 за это задание, нужно набрать 10 баллов, то есть верно выполнить все задания.**\n",
        "\n",
        "Почти все задачи снабжены тестами – ячейками со строками, содержащими конструкцию `assert`. Алгоритм работы с тестами такой: пишете код с решением, запускаете его, затем запускаете ячейку с тестами. Если после запуска ячейки с тестами ничего не произошло, ваш код с решением верный, если на экране появилось сообщение об ошибке, код неверный.\n",
        "\n",
        "Во всех заданиях необходимо называть объекты так, как указано в условии, иначе решение будет считаться ошибочным (например, для Python вообще и для `assert` в частности объекты `n` и `N` – не одно и то же)."
      ]
    },
    {
      "cell_type": "markdown",
      "metadata": {
        "id": "2icoi4lcgctC"
      },
      "source": [
        "### Формат сдачи\n",
        "\n",
        "Для сдачи домашнего задания необходимо скачать текущий ipynb-файл, вписать в него свои решения, сохранить изменения и загрузить обновленный файл на Dropbox по предложенной на странице курса ссылке. Иметь аккаунт Dropbox для этого не требуется, достаточно пройти по ссылке и выбрать файл на компьютере.\n",
        "\n",
        "Получить ipynb-файл можно, выбрав в Jupyter пункт меню *File → Download as... → Notebook (.ipynb)*."
      ]
    },
    {
      "cell_type": "markdown",
      "metadata": {
        "id": "0zOQH3q1gctE"
      },
      "source": [
        "### Данные\n",
        "\n",
        "**Файл для работы**\n",
        "\n",
        "В файле `polit.csv` хранятся некоторые данные, используемые в [исследовании](http://jmcguire.faculty.wesleyan.edu/welcome/data/#20LActries) James W.McGuire, “Authoritarianism in the Middle East”.\n",
        "\n",
        "**Показатели:**\n",
        "\n",
        "* `ctry` – страна;\n",
        "* `fh09` – индекс *Freedom House* за 2009 год (от 1 до 7, большие значения соответствуют меньшему уровню гражданских свобод);\n",
        "* `polity09` – индекс *Polity2* за 2009 год (от -10 до 10, большие значения соответствуют большему уровню демократии);\n",
        "* `gini` – индекс Джини за 2000-2010 годы (индекс имущественного неравенства);\n",
        "* `fparl08` – доля женщин в парламенте в 2008 году (в процентах);\n",
        "* `mena` – регион *Middle East and North Africa (1 – да, 0 – нет)*;\n",
        "* `lati` – регион *Latin America*;\n",
        "* `cari` – регион *Caribbean, former British, French, Dutch colony*;\n",
        "* `east` – регион *East Asia*;\n",
        "* `sovi` – регион *Former Soviet Bloc*;\n",
        "* `afri` – регион *Africa*;\n",
        "* `corr0509` – индекс *Control of Corruption*, среднее за 2005-2009 годы."
      ]
    },
    {
      "cell_type": "markdown",
      "metadata": {
        "id": "uXjjFwV9gctF"
      },
      "source": [
        "### Задание 1\n",
        "\n",
        "Загрузите таблицу из файла `polit.csv` и сохраните датафрейм в переменную `polit`. Если в датафрейме есть строки с пропущенными значениями, удалите их. Сохраните изменения в `polit`.\n",
        "\n",
        "**Подсказка:** удаление строк с пропущенными значениями – метод `.dropna()`."
      ]
    },
    {
      "cell_type": "code",
      "execution_count": 43,
      "metadata": {
        "deletable": false,
        "nbgrader": {
          "checksum": "21b1db37a5b4813694f8a9c13e516225",
          "grade": false,
          "grade_id": "cell-bd09069837828d5c",
          "locked": false,
          "schema_version": 3,
          "solution": true,
          "task": false
        },
        "id": "3YfNbbw4gctH"
      },
      "outputs": [],
      "source": [
        "# YOUR CODE HERE\n",
        "import pandas as pd\n",
        "\n",
        "\n",
        "file = pd.read_csv(\"polit.csv\")\n",
        "polit = file.dropna()"
      ]
    },
    {
      "cell_type": "code",
      "execution_count": 44,
      "metadata": {
        "deletable": false,
        "nbgrader": {
          "checksum": "267ba36cce9a0df14e19e5ff5f84c77b",
          "grade": true,
          "grade_id": "cell-dc3ca2ea24ead192",
          "locked": true,
          "points": 1,
          "schema_version": 3,
          "solution": false,
          "task": false
        },
        "id": "C-5uZuNngctL"
      },
      "outputs": [],
      "source": [
        "assert polit.shape == (135, 13), \"Проверьте, сохранились ли изменения в polit\""
      ]
    },
    {
      "cell_type": "markdown",
      "metadata": {
        "id": "O3w0ZQ4sgctM"
      },
      "source": [
        "### Задание 2\n",
        "\n",
        "Выберите в датафрейме строки, которые соответствуют странам со значениями индекса *Freedom House* (`fh09`) выше 5. Сохраните их в датафрейм `not_free`."
      ]
    },
    {
      "cell_type": "code",
      "execution_count": 45,
      "metadata": {
        "deletable": false,
        "nbgrader": {
          "checksum": "78661c282cb8615e65edd5dc7ec1c1c5",
          "grade": false,
          "grade_id": "cell-ef43df4f0d5c0bd2",
          "locked": false,
          "schema_version": 3,
          "solution": true,
          "task": false
        },
        "id": "G8t9ZEVEgctN"
      },
      "outputs": [],
      "source": [
        "# YOUR CODE HERE\n",
        "not_free = polit[polit['fh09']>5]"
      ]
    },
    {
      "cell_type": "code",
      "execution_count": 46,
      "metadata": {
        "deletable": false,
        "nbgrader": {
          "checksum": "e9ae06ebd9c1158b08b20447bcceb1d7",
          "grade": true,
          "grade_id": "cell-515d575403b98e13",
          "locked": true,
          "points": 1,
          "schema_version": 3,
          "solution": false,
          "task": false
        },
        "id": "Xe3ezOBtgctO"
      },
      "outputs": [],
      "source": [
        "assert not_free.shape == (30, 13), \"Неверное число строк или столбцов\"\n",
        "assert not_free.iloc[3, 9] == 0, \"Неверный датафрейм\"\n",
        "assert not_free.iloc[19, 1] == 'Mauritania', \"Неверный датафрейм\""
      ]
    },
    {
      "cell_type": "markdown",
      "metadata": {
        "id": "jWwrN1RagctP"
      },
      "source": [
        "### Задание 3\n",
        "\n",
        "Выберите в датафрейме строки, которые соответствуют странам Африки (`afri`) с процентом женщин в парламенте (`fparl08`) выше 30%. Сохраните их в датафрейм `af_w`."
      ]
    },
    {
      "cell_type": "code",
      "execution_count": 47,
      "metadata": {
        "deletable": false,
        "nbgrader": {
          "checksum": "6b00c7ce97910a581fd4fabdf7256f0e",
          "grade": false,
          "grade_id": "cell-821b3c361b5f0e7d",
          "locked": false,
          "schema_version": 3,
          "solution": true,
          "task": false
        },
        "id": "vN9ggJbMgctQ"
      },
      "outputs": [],
      "source": [
        "# YOUR CODE HERE\n",
        "polit.head()\n",
        "af_w = polit[(polit['afri'] == 1) & (polit['fparl08']>30)]"
      ]
    },
    {
      "cell_type": "code",
      "execution_count": 48,
      "metadata": {
        "deletable": false,
        "nbgrader": {
          "checksum": "7d59a6b212859088917a4b3b3b5fd3be",
          "grade": true,
          "grade_id": "cell-4da7712178596899",
          "locked": true,
          "points": 1,
          "schema_version": 3,
          "solution": false,
          "task": false
        },
        "id": "Jy4_vQdOgctR"
      },
      "outputs": [],
      "source": [
        "assert af_w.shape == (6, 13), \"Неверное число строк или столбцов\"\n",
        "assert af_w.iloc[3, 5] == 33.92, \"Неверный датафрейм\"\n",
        "assert af_w.iloc[5, 7] == 0, \"Неверный датафрейм\""
      ]
    },
    {
      "cell_type": "markdown",
      "metadata": {
        "id": "E2hZK4aTgctS"
      },
      "source": [
        "### Задание 4\n",
        "\n",
        "Выберите в датафрейме строки, которые соответствуют странам Африки или Латинской Америки (`afri` и `lati`) со значением индекса *Polity2* (`polity09`) больше или равным 8. Сохраните их в датафрейм `la_dem`."
      ]
    },
    {
      "cell_type": "code",
      "execution_count": 49,
      "metadata": {
        "deletable": false,
        "nbgrader": {
          "checksum": "62aff39c2687b770387b3441532f67db",
          "grade": false,
          "grade_id": "cell-505bba8952d6425e",
          "locked": false,
          "schema_version": 3,
          "solution": true,
          "task": false
        },
        "id": "xXO8XNjXgctT"
      },
      "outputs": [],
      "source": [
        "# YOUR CODE HERE\n",
        "la_dem = polit[((polit['afri'] == 1) | (polit['lati'] == 1))& (polit['polity09']>=8)]"
      ]
    },
    {
      "cell_type": "code",
      "execution_count": 50,
      "metadata": {
        "deletable": false,
        "nbgrader": {
          "checksum": "97dce8d4d8971df2418374436ea0f06d",
          "grade": true,
          "grade_id": "cell-451bfc8d30610712",
          "locked": true,
          "points": 1,
          "schema_version": 3,
          "solution": false,
          "task": false
        },
        "id": "h-Jz35uogctT"
      },
      "outputs": [],
      "source": [
        "assert la_dem.shape == (18, 13), \"Неверное число строк или столбцов\"\n",
        "assert la_dem.iloc[3, 5] == 12.66, \"Неверный датафрейм\"\n",
        "assert la_dem.iloc[5, 7] == 1, \"Неверный датафрейм\""
      ]
    },
    {
      "cell_type": "markdown",
      "metadata": {
        "id": "cYNxYucCgctU"
      },
      "source": [
        "### Задание 5\n",
        "\n",
        "Добавьте в датафрейм `polit` столбец `corr_round`, в котором будут храниться округленные до 2 знака после запятой значения индекса *Control of Corruption* (`corr0509`)."
      ]
    },
    {
      "cell_type": "code",
      "execution_count": 51,
      "metadata": {
        "deletable": false,
        "nbgrader": {
          "checksum": "d0072a0e2dc47330d385908822233031",
          "grade": false,
          "grade_id": "cell-b773c30a03303cd1",
          "locked": false,
          "schema_version": 3,
          "solution": true,
          "task": false
        },
        "colab": {
          "base_uri": "https://localhost:8080/"
        },
        "id": "0wGk5hUigctV",
        "outputId": "9eea6c6b-0f02-49a9-d5ff-f7206430da08"
      },
      "outputs": [
        {
          "output_type": "stream",
          "name": "stderr",
          "text": [
            "<ipython-input-51-19207731be4c>:2: SettingWithCopyWarning: \n",
            "A value is trying to be set on a copy of a slice from a DataFrame.\n",
            "Try using .loc[row_indexer,col_indexer] = value instead\n",
            "\n",
            "See the caveats in the documentation: https://pandas.pydata.org/pandas-docs/stable/user_guide/indexing.html#returning-a-view-versus-a-copy\n",
            "  polit['corr_round'] = polit['corr0509'].round(2)\n"
          ]
        }
      ],
      "source": [
        "# YOUR CODE HERE\n",
        "polit['corr_round'] = polit['corr0509'].round(2)"
      ]
    },
    {
      "cell_type": "code",
      "execution_count": 52,
      "metadata": {
        "deletable": false,
        "nbgrader": {
          "checksum": "520d6e03d7dee2572cefad273ceade03",
          "grade": true,
          "grade_id": "cell-8c2782bc419be172",
          "locked": true,
          "points": 1,
          "schema_version": 3,
          "solution": false,
          "task": false
        },
        "id": "35c8D8KPgctV"
      },
      "outputs": [],
      "source": [
        "assert round(polit[\"corr_round\"].sum()) == -14.0, \"Ошибка в столбце corr_round\"\n",
        "assert polit[\"corr_round\"].max() == 2.38, \"Ошибка в столбце corr_round\""
      ]
    },
    {
      "cell_type": "markdown",
      "metadata": {
        "id": "6oNU95YrgctW"
      },
      "source": [
        "### Задание 6 (2 балла)\n",
        "\n",
        "Добавьте в датафрейм `polit` столбец `fh_status`, в котором будут храниться типы стран в зависимости от значения индекса *Freedom House* (значения *free*, *partly free*, *not free*). Соответствие значений `fh09` с типами стран см. [здесь](https://freedomhouse.org/sites/default/files/2020-02/Methodology_FIW_2016.pdf) (*Table 3* на последней странице)."
      ]
    },
    {
      "cell_type": "code",
      "execution_count": 53,
      "metadata": {
        "deletable": false,
        "nbgrader": {
          "checksum": "071a8e7d18eb1463c4a9c1168c337576",
          "grade": false,
          "grade_id": "cell-6d3e86f6514ffe7c",
          "locked": false,
          "schema_version": 3,
          "solution": true,
          "task": false
        },
        "colab": {
          "base_uri": "https://localhost:8080/"
        },
        "id": "PfevO4MqgctX",
        "outputId": "4f207294-458d-46ae-cc25-ede9cb264a00"
      },
      "outputs": [
        {
          "output_type": "stream",
          "name": "stderr",
          "text": [
            "<ipython-input-53-7412549b1017>:15: SettingWithCopyWarning: \n",
            "A value is trying to be set on a copy of a slice from a DataFrame.\n",
            "Try using .loc[row_indexer,col_indexer] = value instead\n",
            "\n",
            "See the caveats in the documentation: https://pandas.pydata.org/pandas-docs/stable/user_guide/indexing.html#returning-a-view-versus-a-copy\n",
            "  polit['fh_status'] = polit[\"fh09\"].apply(new_rank)\n"
          ]
        }
      ],
      "source": [
        "# YOUR CODE HERE\n",
        "polit.head()\n",
        "\n",
        "def new_rank(x):\n",
        "  global y\n",
        "  if x >= 1 and x <= 2.5:\n",
        "    y = 'free'\n",
        "  elif x >= 3 and x <= 5:\n",
        "    y = 'partly free'\n",
        "  elif x >= 5.5 and x <= 7:\n",
        "    y = 'not free'\n",
        "  return y\n",
        "\n",
        "\n",
        "polit['fh_status'] = polit[\"fh09\"].apply(new_rank)"
      ]
    },
    {
      "cell_type": "code",
      "execution_count": 54,
      "metadata": {
        "deletable": false,
        "nbgrader": {
          "checksum": "d274de8e8546aea839df2f850f217e87",
          "grade": true,
          "grade_id": "cell-bf606937b0f2cb58",
          "locked": true,
          "points": 2,
          "schema_version": 3,
          "solution": false,
          "task": false
        },
        "id": "6gnxXfebgctX"
      },
      "outputs": [],
      "source": [
        "assert polit[\"fh_status\"].value_counts().values[0] == 57, \"Неверные значения в столбце\"\n",
        "assert polit[\"fh_status\"].value_counts().values[1] == 48, \"Неверные значения в столбце\"\n",
        "assert polit[\"fh_status\"].value_counts().values[2] == 30, \"Неверные значения в столбце\"\n",
        "assert polit[\"fh_status\"].values[3] == 'free', \"Неверные значения в столбце\"\n",
        "assert polit[\"fh_status\"].values[4] == 'partly free', \"Неверные значения в столбце\"\n",
        "assert polit[\"fh_status\"].values[134] == 'not free', \"Неверные значения в столбце\""
      ]
    },
    {
      "cell_type": "markdown",
      "metadata": {
        "id": "ntWZPiU6gctY"
      },
      "source": [
        "### Задание 7\n",
        "\n",
        "*(Формат решения может быть разный, задача автоматически не тестируется, баллы будут добавлены при ручной проверке)*\n",
        "\n",
        "Сгруппируйте строки в таблице в соответствии со значениями столбца `fh_status`, полученного в предыдущей части и выведите минимальное, среднее и максимальное значение показателя `gini` (индекс Джини) по каждой группе."
      ]
    },
    {
      "cell_type": "code",
      "execution_count": 55,
      "metadata": {
        "id": "4Y9Q9IvAgctZ",
        "colab": {
          "base_uri": "https://localhost:8080/",
          "height": 229
        },
        "outputId": "be72700e-6816-4167-9b11-3e6a06ec56fa"
      },
      "outputs": [
        {
          "output_type": "stream",
          "name": "stderr",
          "text": [
            "<ipython-input-55-26d71667307b>:2: FutureWarning: ['ctry'] did not aggregate successfully. If any error is raised this will raise in a future version of pandas. Drop these columns/ops to avoid this warning.\n",
            "  polit.groupby('fh_status').agg(['min','mean','max'], numeric_only = True)['gini']\n"
          ]
        },
        {
          "output_type": "execute_result",
          "data": {
            "text/plain": [
              "              min       mean   max\n",
              "fh_status                         \n",
              "free         24.7  38.170175  74.3\n",
              "not free     16.8  39.750000  58.6\n",
              "partly free  29.8  43.931250  64.3"
            ],
            "text/html": [
              "\n",
              "  <div id=\"df-a46a813e-bf5b-4fa5-ab77-b2143449cf20\" class=\"colab-df-container\">\n",
              "    <div>\n",
              "<style scoped>\n",
              "    .dataframe tbody tr th:only-of-type {\n",
              "        vertical-align: middle;\n",
              "    }\n",
              "\n",
              "    .dataframe tbody tr th {\n",
              "        vertical-align: top;\n",
              "    }\n",
              "\n",
              "    .dataframe thead th {\n",
              "        text-align: right;\n",
              "    }\n",
              "</style>\n",
              "<table border=\"1\" class=\"dataframe\">\n",
              "  <thead>\n",
              "    <tr style=\"text-align: right;\">\n",
              "      <th></th>\n",
              "      <th>min</th>\n",
              "      <th>mean</th>\n",
              "      <th>max</th>\n",
              "    </tr>\n",
              "    <tr>\n",
              "      <th>fh_status</th>\n",
              "      <th></th>\n",
              "      <th></th>\n",
              "      <th></th>\n",
              "    </tr>\n",
              "  </thead>\n",
              "  <tbody>\n",
              "    <tr>\n",
              "      <th>free</th>\n",
              "      <td>24.7</td>\n",
              "      <td>38.170175</td>\n",
              "      <td>74.3</td>\n",
              "    </tr>\n",
              "    <tr>\n",
              "      <th>not free</th>\n",
              "      <td>16.8</td>\n",
              "      <td>39.750000</td>\n",
              "      <td>58.6</td>\n",
              "    </tr>\n",
              "    <tr>\n",
              "      <th>partly free</th>\n",
              "      <td>29.8</td>\n",
              "      <td>43.931250</td>\n",
              "      <td>64.3</td>\n",
              "    </tr>\n",
              "  </tbody>\n",
              "</table>\n",
              "</div>\n",
              "    <div class=\"colab-df-buttons\">\n",
              "\n",
              "  <div class=\"colab-df-container\">\n",
              "    <button class=\"colab-df-convert\" onclick=\"convertToInteractive('df-a46a813e-bf5b-4fa5-ab77-b2143449cf20')\"\n",
              "            title=\"Convert this dataframe to an interactive table.\"\n",
              "            style=\"display:none;\">\n",
              "\n",
              "  <svg xmlns=\"http://www.w3.org/2000/svg\" height=\"24px\" viewBox=\"0 -960 960 960\">\n",
              "    <path d=\"M120-120v-720h720v720H120Zm60-500h600v-160H180v160Zm220 220h160v-160H400v160Zm0 220h160v-160H400v160ZM180-400h160v-160H180v160Zm440 0h160v-160H620v160ZM180-180h160v-160H180v160Zm440 0h160v-160H620v160Z\"/>\n",
              "  </svg>\n",
              "    </button>\n",
              "\n",
              "  <style>\n",
              "    .colab-df-container {\n",
              "      display:flex;\n",
              "      gap: 12px;\n",
              "    }\n",
              "\n",
              "    .colab-df-convert {\n",
              "      background-color: #E8F0FE;\n",
              "      border: none;\n",
              "      border-radius: 50%;\n",
              "      cursor: pointer;\n",
              "      display: none;\n",
              "      fill: #1967D2;\n",
              "      height: 32px;\n",
              "      padding: 0 0 0 0;\n",
              "      width: 32px;\n",
              "    }\n",
              "\n",
              "    .colab-df-convert:hover {\n",
              "      background-color: #E2EBFA;\n",
              "      box-shadow: 0px 1px 2px rgba(60, 64, 67, 0.3), 0px 1px 3px 1px rgba(60, 64, 67, 0.15);\n",
              "      fill: #174EA6;\n",
              "    }\n",
              "\n",
              "    .colab-df-buttons div {\n",
              "      margin-bottom: 4px;\n",
              "    }\n",
              "\n",
              "    [theme=dark] .colab-df-convert {\n",
              "      background-color: #3B4455;\n",
              "      fill: #D2E3FC;\n",
              "    }\n",
              "\n",
              "    [theme=dark] .colab-df-convert:hover {\n",
              "      background-color: #434B5C;\n",
              "      box-shadow: 0px 1px 3px 1px rgba(0, 0, 0, 0.15);\n",
              "      filter: drop-shadow(0px 1px 2px rgba(0, 0, 0, 0.3));\n",
              "      fill: #FFFFFF;\n",
              "    }\n",
              "  </style>\n",
              "\n",
              "    <script>\n",
              "      const buttonEl =\n",
              "        document.querySelector('#df-a46a813e-bf5b-4fa5-ab77-b2143449cf20 button.colab-df-convert');\n",
              "      buttonEl.style.display =\n",
              "        google.colab.kernel.accessAllowed ? 'block' : 'none';\n",
              "\n",
              "      async function convertToInteractive(key) {\n",
              "        const element = document.querySelector('#df-a46a813e-bf5b-4fa5-ab77-b2143449cf20');\n",
              "        const dataTable =\n",
              "          await google.colab.kernel.invokeFunction('convertToInteractive',\n",
              "                                                    [key], {});\n",
              "        if (!dataTable) return;\n",
              "\n",
              "        const docLinkHtml = 'Like what you see? Visit the ' +\n",
              "          '<a target=\"_blank\" href=https://colab.research.google.com/notebooks/data_table.ipynb>data table notebook</a>'\n",
              "          + ' to learn more about interactive tables.';\n",
              "        element.innerHTML = '';\n",
              "        dataTable['output_type'] = 'display_data';\n",
              "        await google.colab.output.renderOutput(dataTable, element);\n",
              "        const docLink = document.createElement('div');\n",
              "        docLink.innerHTML = docLinkHtml;\n",
              "        element.appendChild(docLink);\n",
              "      }\n",
              "    </script>\n",
              "  </div>\n",
              "\n",
              "\n",
              "<div id=\"df-11d5c51a-6207-4f21-bd1b-99ca0f2f0ef0\">\n",
              "  <button class=\"colab-df-quickchart\" onclick=\"quickchart('df-11d5c51a-6207-4f21-bd1b-99ca0f2f0ef0')\"\n",
              "            title=\"Suggest charts.\"\n",
              "            style=\"display:none;\">\n",
              "\n",
              "<svg xmlns=\"http://www.w3.org/2000/svg\" height=\"24px\"viewBox=\"0 0 24 24\"\n",
              "     width=\"24px\">\n",
              "    <g>\n",
              "        <path d=\"M19 3H5c-1.1 0-2 .9-2 2v14c0 1.1.9 2 2 2h14c1.1 0 2-.9 2-2V5c0-1.1-.9-2-2-2zM9 17H7v-7h2v7zm4 0h-2V7h2v10zm4 0h-2v-4h2v4z\"/>\n",
              "    </g>\n",
              "</svg>\n",
              "  </button>\n",
              "\n",
              "<style>\n",
              "  .colab-df-quickchart {\n",
              "      --bg-color: #E8F0FE;\n",
              "      --fill-color: #1967D2;\n",
              "      --hover-bg-color: #E2EBFA;\n",
              "      --hover-fill-color: #174EA6;\n",
              "      --disabled-fill-color: #AAA;\n",
              "      --disabled-bg-color: #DDD;\n",
              "  }\n",
              "\n",
              "  [theme=dark] .colab-df-quickchart {\n",
              "      --bg-color: #3B4455;\n",
              "      --fill-color: #D2E3FC;\n",
              "      --hover-bg-color: #434B5C;\n",
              "      --hover-fill-color: #FFFFFF;\n",
              "      --disabled-bg-color: #3B4455;\n",
              "      --disabled-fill-color: #666;\n",
              "  }\n",
              "\n",
              "  .colab-df-quickchart {\n",
              "    background-color: var(--bg-color);\n",
              "    border: none;\n",
              "    border-radius: 50%;\n",
              "    cursor: pointer;\n",
              "    display: none;\n",
              "    fill: var(--fill-color);\n",
              "    height: 32px;\n",
              "    padding: 0;\n",
              "    width: 32px;\n",
              "  }\n",
              "\n",
              "  .colab-df-quickchart:hover {\n",
              "    background-color: var(--hover-bg-color);\n",
              "    box-shadow: 0 1px 2px rgba(60, 64, 67, 0.3), 0 1px 3px 1px rgba(60, 64, 67, 0.15);\n",
              "    fill: var(--button-hover-fill-color);\n",
              "  }\n",
              "\n",
              "  .colab-df-quickchart-complete:disabled,\n",
              "  .colab-df-quickchart-complete:disabled:hover {\n",
              "    background-color: var(--disabled-bg-color);\n",
              "    fill: var(--disabled-fill-color);\n",
              "    box-shadow: none;\n",
              "  }\n",
              "\n",
              "  .colab-df-spinner {\n",
              "    border: 2px solid var(--fill-color);\n",
              "    border-color: transparent;\n",
              "    border-bottom-color: var(--fill-color);\n",
              "    animation:\n",
              "      spin 1s steps(1) infinite;\n",
              "  }\n",
              "\n",
              "  @keyframes spin {\n",
              "    0% {\n",
              "      border-color: transparent;\n",
              "      border-bottom-color: var(--fill-color);\n",
              "      border-left-color: var(--fill-color);\n",
              "    }\n",
              "    20% {\n",
              "      border-color: transparent;\n",
              "      border-left-color: var(--fill-color);\n",
              "      border-top-color: var(--fill-color);\n",
              "    }\n",
              "    30% {\n",
              "      border-color: transparent;\n",
              "      border-left-color: var(--fill-color);\n",
              "      border-top-color: var(--fill-color);\n",
              "      border-right-color: var(--fill-color);\n",
              "    }\n",
              "    40% {\n",
              "      border-color: transparent;\n",
              "      border-right-color: var(--fill-color);\n",
              "      border-top-color: var(--fill-color);\n",
              "    }\n",
              "    60% {\n",
              "      border-color: transparent;\n",
              "      border-right-color: var(--fill-color);\n",
              "    }\n",
              "    80% {\n",
              "      border-color: transparent;\n",
              "      border-right-color: var(--fill-color);\n",
              "      border-bottom-color: var(--fill-color);\n",
              "    }\n",
              "    90% {\n",
              "      border-color: transparent;\n",
              "      border-bottom-color: var(--fill-color);\n",
              "    }\n",
              "  }\n",
              "</style>\n",
              "\n",
              "  <script>\n",
              "    async function quickchart(key) {\n",
              "      const quickchartButtonEl =\n",
              "        document.querySelector('#' + key + ' button');\n",
              "      quickchartButtonEl.disabled = true;  // To prevent multiple clicks.\n",
              "      quickchartButtonEl.classList.add('colab-df-spinner');\n",
              "      try {\n",
              "        const charts = await google.colab.kernel.invokeFunction(\n",
              "            'suggestCharts', [key], {});\n",
              "      } catch (error) {\n",
              "        console.error('Error during call to suggestCharts:', error);\n",
              "      }\n",
              "      quickchartButtonEl.classList.remove('colab-df-spinner');\n",
              "      quickchartButtonEl.classList.add('colab-df-quickchart-complete');\n",
              "    }\n",
              "    (() => {\n",
              "      let quickchartButtonEl =\n",
              "        document.querySelector('#df-11d5c51a-6207-4f21-bd1b-99ca0f2f0ef0 button');\n",
              "      quickchartButtonEl.style.display =\n",
              "        google.colab.kernel.accessAllowed ? 'block' : 'none';\n",
              "    })();\n",
              "  </script>\n",
              "</div>\n",
              "    </div>\n",
              "  </div>\n"
            ]
          },
          "metadata": {},
          "execution_count": 55
        }
      ],
      "source": [
        "# YOUR CODE HERE\n",
        "polit.groupby('fh_status').agg(['min','mean','max'], numeric_only = True)['gini']"
      ]
    },
    {
      "cell_type": "markdown",
      "metadata": {
        "id": "Ux112H7ngctZ"
      },
      "source": [
        "### Задание 8 (2 балла)\n",
        "\n",
        "*(Формат решения может быть разный, задача автоматически не тестируется, баллы будут добавлены при ручной проверке)*\n",
        "\n",
        "Сгруппируйте строки в таблице в соответствии со значениями столбца `fh_status` и запишите строки, относящиеся к разным группам, в отдельные csv-файлы."
      ]
    },
    {
      "cell_type": "code",
      "execution_count": 56,
      "metadata": {
        "id": "8QIgorNHgctZ"
      },
      "outputs": [],
      "source": [
        "# YOUR CODE HERE\n",
        "polit.groupby('fh_status')\n",
        "\n",
        "for group, tab in polit.groupby(\"fh_status\"):\n",
        "    fname = group + \".csv\"\n",
        "    tab.to_csv(fname)"
      ]
    }
  ],
  "metadata": {
    "kernelspec": {
      "display_name": "Python 3",
      "language": "python",
      "name": "python3"
    },
    "language_info": {
      "codemirror_mode": {
        "name": "ipython",
        "version": 3
      },
      "file_extension": ".py",
      "mimetype": "text/x-python",
      "name": "python",
      "nbconvert_exporter": "python",
      "pygments_lexer": "ipython3",
      "version": "3.7.4"
    },
    "colab": {
      "provenance": []
    }
  },
  "nbformat": 4,
  "nbformat_minor": 0
}