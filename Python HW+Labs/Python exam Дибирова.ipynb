{
  "cells": [
    {
      "cell_type": "markdown",
      "metadata": {
        "id": "vcM-eD8Yjvxn"
      },
      "source": [
        "# Программирование для всех (основы работы с Python)\n",
        "\n",
        "## Экзамен\n",
        "\n",
        "* Время выполнения экзамена: 2 часа 40 минут.\n",
        "* Выполненную работу нужно загрузить на Dropbox по [ссылке](https://www.dropbox.com/request/GcOlWf1xTrdrTmRyETDb).\n",
        "* Для автоматической проверки заданий части 1 не забудьте запустить ячейку с тестами ниже."
      ]
    },
    {
      "cell_type": "markdown",
      "metadata": {
        "id": "3E_jGWmyjvxt"
      },
      "source": [
        "### Активация тестов"
      ]
    },
    {
      "cell_type": "code",
      "execution_count": 1,
      "metadata": {
        "id": "ekGdtgjijvxu"
      },
      "outputs": [],
      "source": [
        "# Фабрика тестов для проверки программ, принимающих данные через input()\n",
        "\n",
        "from collections import deque\n",
        "\n",
        "class Tester(object):\n",
        "    def __init__(self, inp):\n",
        "        self.outputs = []\n",
        "        self.inputs = deque(inp)\n",
        "    def print(self, *args, sep = \" \", end = \"\\n\"):\n",
        "        text = sep.join(map(str, args)) + end\n",
        "        newlines = text.splitlines(keepends=True)\n",
        "        if self.outputs and self.outputs[-1] and self.outputs[-1][-1] != \"\\n\" and newlines:\n",
        "            self.outputs[-1] += newlines[0]\n",
        "            self.outputs.extend(newlines[1:])\n",
        "        else:\n",
        "            self.outputs.extend(newlines)\n",
        "\n",
        "    def input(self, *args):\n",
        "        assert self.inputs, \"Вы пытаетесь считать больше элементов, чем предусмотрено условием\"\n",
        "        return self.inputs.popleft()\n",
        "    def __enter__(self):\n",
        "        global print\n",
        "        global input\n",
        "        print = self.print\n",
        "        input = self.input\n",
        "        return self.outputs\n",
        "    def __exit__(self, *args):\n",
        "        global print\n",
        "        global input\n",
        "        del print\n",
        "        del input"
      ]
    },
    {
      "cell_type": "markdown",
      "metadata": {
        "id": "pmrPqUGnjvxx"
      },
      "source": [
        "## Часть 1: базовый Python (18 баллов)"
      ]
    },
    {
      "cell_type": "markdown",
      "metadata": {
        "id": "Pb_87JMyjvxy"
      },
      "source": [
        "### Задача 0. Эпиграф  (1 балл)\n",
        "\n",
        "В списке `quotes` хранятся имена героев, которые встречались в разных задачах на курсе, и их цитаты (воодушевляющие и не очень).\n",
        "\n",
        "Напишите программу, которая выводит на экран строку с:\n",
        "\n",
        "* выбранной случайным образом цитатой, которую можно использовать в качестве эпиграфа к экзамену по Python;\n",
        "* именем героя, которому цитата принадлежит, в скобках через пробел.\n",
        "\n",
        "Чтобы случайным образом выбрать элемент списка, воспользуйтесь функцией `choice()` из модуля `random`:\n",
        "\n",
        "    from random import choice\n",
        "    choice([1, 2, 5, 7])\n",
        "    5\n",
        "\n",
        "**Пример вывода цитаты**\n",
        "\n",
        "    Ненавижу змей! Ой, это кто-то другой, а змеи – они ничего... (Зигзаг Маккряк)\n",
        "    \n",
        "Автоматического теста в этой задаче нет, так как псевдослучайный выбор может работать по-разному в зависимости от того, каким образом вы будете извлекать значения из списка `quotes`."
      ]
    },
    {
      "cell_type": "code",
      "execution_count": 4,
      "metadata": {
        "nbgrader": {
          "grade": false,
          "grade_id": "cell-883fc14a17de6758",
          "locked": false,
          "schema_version": 3,
          "solution": true,
          "task": false
        },
        "colab": {
          "base_uri": "https://localhost:8080/"
        },
        "id": "lqSRd28Ljvxy",
        "outputId": "4945584f-bc68-4219-fdc4-2784a265fe1c"
      },
      "outputs": [
        {
          "output_type": "execute_result",
          "data": {
            "text/plain": [
              "1"
            ]
          },
          "metadata": {},
          "execution_count": 4
        }
      ],
      "source": [
        "from random import choice\n",
        "\n",
        "quotes = [(\"Клод Фролло\", \"Молиться бесполезно!\"),\n",
        "          (\"Зибель\", \"Надейся на меня!\"),\n",
        "          (\"Зигзаг Маккряк\", \"Ненавижу змей! Ой, это кто-то другой, а змеи – они ничего...\"),\n",
        "          (\"Жак Веснушка\", \"Мы с тобой молодцы!\"),\n",
        "          (\"Северус Снейп\", \"Может, вы еще не заметили, но жизнь вообще несправедлива.\")]\n",
        "\n",
        "### YOUR CODE HERE ###\n",
        "\n",
        "choice([1, 2, 5, 7])"
      ]
    },
    {
      "cell_type": "markdown",
      "metadata": {
        "id": "yyHIExnAjvxz"
      },
      "source": [
        "### Задача 1.  Let the feast begin (1 балл)\n",
        "\n",
        "Хагрид выращивает гигантские тыквы, чтобы украсить Большой зал Хогвартса к Хэллоуину.\n",
        "Помимо обломков своей волшебной палочки ему нужен специальный увеличительный раствор.\n",
        "Известно, что на 1 килограмм тыквы нужно 10 капель раствора.\n",
        "\n",
        "Напишите программу, которая запрашивает с клавиатуры вес тыквы в килограммах (целое положительное число) и выводит на экран необходимое число капель увеличителя (целое положительное число).\n",
        "\n",
        "**Примеры работы программы:**\n",
        "\n",
        "Ввод:\n",
        "\n",
        "    20\n",
        "\n",
        "\n",
        "Вывод:\n",
        "\n",
        "    200"
      ]
    },
    {
      "cell_type": "code",
      "execution_count": 6,
      "metadata": {
        "nbgrader": {
          "grade": false,
          "grade_id": "cell-8b78c8d6ea8ea7b0",
          "locked": false,
          "schema_version": 3,
          "solution": true,
          "task": false
        },
        "colab": {
          "base_uri": "https://localhost:8080/"
        },
        "id": "Cg812pS5jvx0",
        "outputId": "1169ad65-b1f7-41a0-d512-37efe53dcef0"
      },
      "outputs": [
        {
          "output_type": "stream",
          "name": "stdout",
          "text": [
            "20\n",
            "200\n"
          ]
        }
      ],
      "source": [
        "def increase():\n",
        "    ### YOUR CODE HERE ###\n",
        "    a = int(input())\n",
        "    print(a*10)\n",
        "\n",
        "increase()"
      ]
    },
    {
      "cell_type": "code",
      "execution_count": 7,
      "metadata": {
        "nbgrader": {
          "grade": true,
          "grade_id": "cell-c8012cd198b56e0f",
          "locked": true,
          "points": 1,
          "schema_version": 3,
          "solution": false,
          "task": false
        },
        "id": "b_uOFzBbjvx1"
      },
      "outputs": [],
      "source": [
        "test_data = [\n",
        "    (\"20\", \"200\"),\n",
        "    (\"10\", \"100\"),\n",
        "    (\"5\", \"50\"),\n",
        "    (\"7\", \"70\"),\n",
        "    (\"17\", \"170\"),\n",
        "    (\"33\", \"330\")\n",
        "]\n",
        "\n",
        "for inp, out in test_data:\n",
        "    with Tester([inp]) as t:\n",
        "        increase()\n",
        "        assert len(t) == 1, \"Неверный ответ\"\n",
        "        assert t[0] == out+\"\\n\", \"Неверный ответ\""
      ]
    },
    {
      "cell_type": "markdown",
      "metadata": {
        "id": "qb5WgwPCjvx1"
      },
      "source": [
        "### Задача 2.  Rat race (1 балл)\n",
        "\n",
        "Рон очень переживает, что с его крысой Коростой что-то не так, потому что она стала чихать. Он вычитал в книжке, что для здоровых крыс норма – чихать не более 30 раз в день.\n",
        "\n",
        "Напишите программу, которая запрашивает с клавиатуры число чиханий и выводит на экран сообщение `OK`, если число чихов не больше 30, и сообщение `BAD`, если число чихов более 30.\n",
        "\n",
        "**Примеры работы программы:**\n",
        "\n",
        "Ввод:\n",
        "\n",
        "    25\n",
        "\n",
        "\n",
        "Вывод:\n",
        "\n",
        "    OK\n",
        "    \n",
        "Ввод:\n",
        "\n",
        "    30\n",
        "\n",
        "\n",
        "Вывод:\n",
        "\n",
        "    OK    \n",
        "    \n",
        "Ввод:\n",
        "\n",
        "    40\n",
        "\n",
        "\n",
        "Вывод:\n",
        "\n",
        "    BAD   "
      ]
    },
    {
      "cell_type": "code",
      "execution_count": 8,
      "metadata": {
        "nbgrader": {
          "grade": false,
          "grade_id": "cell-df6491b3a24c76c8",
          "locked": false,
          "schema_version": 3,
          "solution": true,
          "task": false
        },
        "colab": {
          "base_uri": "https://localhost:8080/"
        },
        "id": "3XdPy0c_jvx2",
        "outputId": "2b54a1dd-4703-42f4-bccf-dff81c484313"
      },
      "outputs": [
        {
          "output_type": "stream",
          "name": "stdout",
          "text": [
            "30\n",
            "OK\n"
          ]
        }
      ],
      "source": [
        "def sneeze():\n",
        "    ### YOUR CODE HERE ###\n",
        "    a = int(input())\n",
        "    if a<=30:\n",
        "      print('OK')\n",
        "    else:\n",
        "      print('BAD')\n",
        "sneeze()"
      ]
    },
    {
      "cell_type": "code",
      "execution_count": 9,
      "metadata": {
        "nbgrader": {
          "grade": true,
          "grade_id": "cell-6cb3d8609bc06236",
          "locked": true,
          "points": 1,
          "schema_version": 3,
          "solution": false,
          "task": false
        },
        "id": "QDVnUMoDjvx3"
      },
      "outputs": [],
      "source": [
        "test_data = [\n",
        "    (\"20\", \"OK\"),\n",
        "    (\"25\", \"OK\"),\n",
        "    (\"0\", \"OK\"),\n",
        "    (\"37\", \"BAD\"),\n",
        "    (\"30\", \"OK\"),\n",
        "    (\"45\", \"BAD\"),\n",
        "    (\"52\", \"BAD\"),\n",
        "]\n",
        "\n",
        "for inp, out in test_data:\n",
        "    with Tester([inp]) as t:\n",
        "        sneeze()\n",
        "        assert len(t) == 1, \"Неверный ответ\"\n",
        "        assert t[0] == out+\"\\n\", \"Неверный ответ\""
      ]
    },
    {
      "cell_type": "markdown",
      "metadata": {
        "id": "s0Cbyo5hjvx4"
      },
      "source": [
        "### Задача 3. Hogwarts,  Hogwarts (2 балла)\n",
        "\n",
        "В словаре `names` сохранены пары «название на словенском» – «название на английском»:\n",
        "\n",
        "    names = {\n",
        "    \"Bradavičarka\" : \"Hogwarts\",\n",
        "    \"Drznvraan\" : \"Ravenclaw\",\n",
        "    \"Spolzgad\" : \"Slytherin\",\n",
        "    \"Gryfondom\" : \"Gryffindor\",\n",
        "    \"Pihpuff\" : \"HufflePuff\",\n",
        "    \"Mrlakenstein\" : \"Voldemort\",\n",
        "    \"Klobuk Izbiruh\" : \"Sorting hat\"\n",
        "    }\n",
        "    \n",
        "Напишите программу, которая запрашивает с клавиатуры слово на английском (с большой буквы или с маленькой, большими буквами или маленькими) и выводит на экран его эквивалент на словенском. Если такого слова в словаре нет, на экран должно выводиться сообщение `No information`.\n",
        "\n",
        "**Примеры работы программы:**\n",
        "\n",
        "Ввод:\n",
        "\n",
        "    Ravenclaw\n",
        "\n",
        "\n",
        "Вывод:\n",
        "\n",
        "    Drznvraan\n",
        "    \n",
        "Ввод:\n",
        "\n",
        "    HOGWARTS\n",
        "\n",
        "\n",
        "Вывод:\n",
        "\n",
        "    Bradavičarka  \n",
        "    \n",
        "Ввод:\n",
        "\n",
        "    Sorting Hat\n",
        "\n",
        "\n",
        "Вывод:\n",
        "\n",
        "    Klobuk Izbiruh\n",
        "    \n",
        "Ввод:\n",
        "\n",
        "    Castle\n",
        "\n",
        "\n",
        "Вывод:\n",
        "\n",
        "    No information"
      ]
    },
    {
      "cell_type": "code",
      "execution_count": 75,
      "metadata": {
        "nbgrader": {
          "grade": false,
          "grade_id": "cell-da22e28ac53f5801",
          "locked": false,
          "schema_version": 3,
          "solution": true,
          "task": false
        },
        "colab": {
          "base_uri": "https://localhost:8080/"
        },
        "id": "9Y6asr3yjvx4",
        "outputId": "a6abb82b-28e9-4735-a1a4-f355e5e2ff61"
      },
      "outputs": [
        {
          "output_type": "stream",
          "name": "stdout",
          "text": [
            "HufflePuff\n",
            "Pihpuff\n"
          ]
        }
      ],
      "source": [
        "from IPython.core.shellapp import List\n",
        "def ling():\n",
        "\n",
        "    names = {\n",
        "        \"Bradavičarka\" : \"Hogwarts\",\n",
        "        \"Drznvraan\" : \"Ravenclaw\",\n",
        "        \"Spolzgad\" : \"Slytherin\",\n",
        "        \"Gryfondom\" : \"Gryffindor\",\n",
        "        \"Pihpuff\" : \"HufflePuff\",\n",
        "        \"Mrlakenstein\" : \"Voldemort\",\n",
        "        \"Klobuk Izbiruh\" : \"Sorting hat\"\n",
        "        }\n",
        "\n",
        "    ### YOUR CODE HERE ###\n",
        "\n",
        "\n",
        "    list = [x.capitalize() for x in names.values()]\n",
        "    a = str(input()).capitalize()\n",
        "    if a in list:\n",
        "      for key in names:\n",
        "        if names[key].capitalize() == a:\n",
        "          print(key, sep='')\n",
        "    else:\n",
        "      print('No information')\n",
        "\n",
        "ling()"
      ]
    },
    {
      "cell_type": "code",
      "execution_count": 76,
      "metadata": {
        "nbgrader": {
          "grade": true,
          "grade_id": "cell-b17ef34ea5805bc7",
          "locked": true,
          "points": 2,
          "schema_version": 3,
          "solution": false,
          "task": false
        },
        "id": "TmrruyeAjvx5"
      },
      "outputs": [],
      "source": [
        "test_data = [\n",
        "    (\"Ravenclaw\", \"Drznvraan\"),\n",
        "    (\"Hogwarts\", \"Bradavičarka\"),\n",
        "    (\"Slytherin\", \"Spolzgad\"),\n",
        "    (\"Gryffindor\", \"Gryfondom\"),\n",
        "    (\"HufflePuff\", \"Pihpuff\"),\n",
        "    (\"Voldemort\", \"Mrlakenstein\"),\n",
        "    (\"Sorting hat\", \"Klobuk Izbiruh\"),\n",
        "    (\"ravenclaw\", \"Drznvraan\"),\n",
        "    (\"HOGWARTS\", \"Bradavičarka\"),\n",
        "    (\"GryffindoR\", \"Gryfondom\"),\n",
        "    (\"Sorting Hat\", \"Klobuk Izbiruh\"),\n",
        "    (\"voldemort\", \"Mrlakenstein\"),\n",
        "    (\"SORTING HAT\", \"Klobuk Izbiruh\"),\n",
        "    (\"snitch\", \"No information\"),\n",
        "    (\"broom\", \"No information\"),\n",
        "    (\"Snape\", \"No information\")\n",
        "]\n",
        "\n",
        "for inp, out in test_data:\n",
        "    with Tester([inp]) as t:\n",
        "        ling()\n",
        "        assert len(t) == 1, \"Неверный ответ\"\n",
        "        assert t[0] == out+\"\\n\", \"Неверный ответ\""
      ]
    },
    {
      "cell_type": "markdown",
      "metadata": {
        "id": "CLA_eioAjvx6"
      },
      "source": [
        "### Задача 4. Our dear Hogwarts (2 балла)\n",
        "\n",
        "В списках `one` и `two` записаны словенские слова, имеющие отношение к волшебной вселенной Дж.Роулинг.\n",
        "\n",
        "В списке `ch` собраны слова, которые пишутся через `č`, в списке – слова, которые пишутся через `ž`, в списке `c` – слова, которые пишутся через `c` и в списке `z` – слова, которые пишутся через `z`. Для простоты предположим, что пользователь при вводе слова может ошибиться только в одной из этих букв (`č` вместо `c` и наоборот, `ž` вместо `z` и наоборот).\n",
        "\n",
        "Напишите программу, которая запрашивает с клавиатуры некоторое слово и:\n",
        "\n",
        "* если слово написано правильно, выводит на экран это же слово;\n",
        "* если слово написано неправильно, выводит на экран его в исправленном виде.\n",
        "\n",
        "**Примеры работы программы:**\n",
        "\n",
        "Ввод:\n",
        "\n",
        "    čarovnik\n",
        "\n",
        "Вывод:\n",
        "\n",
        "    čarovnik\n",
        "    \n",
        "Ввод:\n",
        "\n",
        "    tocka\n",
        "\n",
        "Вывод:\n",
        "\n",
        "    točka\n",
        "    \n",
        "    \n",
        "Ввод:\n",
        "\n",
        "    zaba\n",
        "\n",
        "Вывод:\n",
        "\n",
        "    žaba\n",
        "    \n",
        "Ввод:\n",
        "\n",
        "    žemljevid\n",
        "\n",
        "Вывод:\n",
        "\n",
        "    zemljevid"
      ]
    },
    {
      "cell_type": "code",
      "execution_count": 48,
      "metadata": {
        "nbgrader": {
          "grade": false,
          "grade_id": "cell-fa0903ce8c37023d",
          "locked": false,
          "schema_version": 3,
          "solution": true,
          "task": false
        },
        "colab": {
          "base_uri": "https://localhost:8080/"
        },
        "id": "KSgYRbH7jvx6",
        "outputId": "e668b68a-c7af-49b0-efa4-74277d9ccf68"
      },
      "outputs": [
        {
          "output_type": "stream",
          "name": "stdout",
          "text": [
            "žemljevid\n",
            "zemljevid\n"
          ]
        }
      ],
      "source": [
        "# кому любопытно: čarovnik – волшебник, točka – балл, žival - животное,\n",
        "# polž – слизняк, žaba - жаба, iskalec - ловец, zasledovalec – охотник,\n",
        "# branilec – защитник, tolkač – загонщик, brazgotino – шрам,\n",
        "# zgodovina – история, zemljevid – карта\n",
        "\n",
        "def correct():\n",
        "\n",
        "    ch = [\"čarovnik\", \"točka\", \"tolkač\"]\n",
        "    zh = [\"žival\", \"polž\", \"žaba\"]\n",
        "\n",
        "    c = [\"iskalec\", \"zasledovalec\", \"branilec\"]\n",
        "    z = [\"brazgotino\", \"zgodovina\", \"zemljevid\"]\n",
        "\n",
        "\n",
        "    ### YOUR CODE HERE ###\n",
        "    a = str(input())\n",
        "    if a in ch or a in zh or a in c or a in z:\n",
        "      print(a)\n",
        "    else:\n",
        "      if 'z' in a:\n",
        "        print(a.replace('z','ž'))\n",
        "      elif 'ž' in a:\n",
        "        print(a.replace('ž','z',))\n",
        "      elif 'č' in a:\n",
        "        print(a.replace('č','c'))\n",
        "      elif 'c' in a:\n",
        "        print(a.replace('c','č'))\n",
        "correct()"
      ]
    },
    {
      "cell_type": "code",
      "execution_count": 49,
      "metadata": {
        "nbgrader": {
          "grade": true,
          "grade_id": "cell-7f95290288a3b49f",
          "locked": true,
          "points": 2,
          "schema_version": 3,
          "solution": false,
          "task": false
        },
        "id": "6Bk1_Pakjvx7"
      },
      "outputs": [],
      "source": [
        "test_data = [\n",
        "    (\"čarovnik\", \"čarovnik\"),\n",
        "    (\"carovnik\", \"čarovnik\"),\n",
        "    (\"tocka\", \"točka\"),\n",
        "    (\"točka\", \"točka\"),\n",
        "    (\"žival\", \"žival\"),\n",
        "    (\"zival\", \"žival\"),\n",
        "    (\"polž\", \"polž\"),\n",
        "    (\"polz\", \"polž\"),\n",
        "    (\"žaba\", \"žaba\"),\n",
        "    (\"zaba\", \"žaba\"),\n",
        "    (\"iskalec\", \"iskalec\"),\n",
        "    (\"iskaleč\", \"iskalec\"),\n",
        "    (\"branilec\", \"branilec\"),\n",
        "    (\"branileč\", \"branilec\"),\n",
        "    (\"zemljevid\", \"zemljevid\"),\n",
        "    (\"žemljevid\", \"zemljevid\"),\n",
        "\n",
        "]\n",
        "\n",
        "for inp, out in test_data:\n",
        "    with Tester([inp]) as t:\n",
        "        correct()\n",
        "        assert len(t) == 1, \"Неверный ответ\"\n",
        "        assert t[0] == out+\"\\n\", \"Неверный ответ\""
      ]
    },
    {
      "cell_type": "markdown",
      "metadata": {
        "id": "6PSoUWXzjvx8"
      },
      "source": [
        "### Задача 5. Bad omen (1 балл)\n",
        "\n",
        "Профессор Трелони гадает по книге. Она пять раз открывает книгу на случайно выбранной странице и смотрит на номер страницы. Если все пять раз книга открывается на странице 13, она ужасается и идет пить успокаивающий настой, если ни разу – она продолжает гадать дальше и выбирает номер строки на странице, если иное сочетание – сомневается и идет за стеклянным шаром.\n",
        "\n",
        "Напишите программу, которая 5 раз запрашивает номер страницы и:\n",
        "\n",
        "* если все пять раз введено число 13, выводит на экран сообщение `Keep calm`;\n",
        "* если ни один раз не было введено число 13, выводит на экран сообщение `Go on`;\n",
        "* если число 13 было введено иное число раз, выводит на экран сообщение `Crystal Ball`.\n",
        "\n",
        "\n",
        "**Примеры работы программы:**\n",
        "\n",
        "Ввод:\n",
        "\n",
        "    13\n",
        "    13\n",
        "    13\n",
        "    13\n",
        "    13\n",
        "\n",
        "Вывод:\n",
        "\n",
        "    Keep calm\n",
        "    \n",
        "Ввод:\n",
        "\n",
        "    13\n",
        "    10\n",
        "    10\n",
        "    11\n",
        "    13\n",
        "\n",
        "Вывод:\n",
        "\n",
        "    Crystal Ball\n",
        "    \n",
        "Ввод:\n",
        "\n",
        "    1\n",
        "    14\n",
        "    12\n",
        "    19\n",
        "    100\n",
        "\n",
        "Вывод:\n",
        "\n",
        "    Go on"
      ]
    },
    {
      "cell_type": "code",
      "execution_count": 50,
      "metadata": {
        "nbgrader": {
          "grade": false,
          "grade_id": "cell-56e1eb0d11b2e5ae",
          "locked": false,
          "schema_version": 3,
          "solution": true,
          "task": false
        },
        "colab": {
          "base_uri": "https://localhost:8080/"
        },
        "id": "IUJ6m-HGjvx8",
        "outputId": "de4f03ae-22e3-48e2-d6ba-06c0331cefbb"
      },
      "outputs": [
        {
          "output_type": "stream",
          "name": "stdout",
          "text": [
            "13\n",
            "12\n",
            "12\n",
            "14\n",
            "15\n",
            "Crystal Ball\n"
          ]
        }
      ],
      "source": [
        "def bad_fortune():\n",
        "\n",
        "    ### YOUR CODE HERE ###\n",
        "    a = int(input())\n",
        "    b = int(input())\n",
        "    c = int(input())\n",
        "    d = int(input())\n",
        "    e = int(input())\n",
        "\n",
        "    if a==13 and b==13 and c==13 and d==13 and e==13:\n",
        "      print('Keep calm')\n",
        "    elif a==13 or b==13 or c==13 or d==13 or e==13:\n",
        "      print('Crystal Ball')\n",
        "    else:\n",
        "      print('Go on')\n",
        "bad_fortune()"
      ]
    },
    {
      "cell_type": "code",
      "execution_count": 51,
      "metadata": {
        "nbgrader": {
          "grade": true,
          "grade_id": "cell-0fd4134bd9107093",
          "locked": true,
          "points": 1,
          "schema_version": 3,
          "solution": false,
          "task": false
        },
        "id": "x1tSXzODjvx9"
      },
      "outputs": [],
      "source": [
        "test_data = [(\"13,13,13,13,13\", [\"Keep calm\"]),\n",
        "             (\"13,10,12,12,100\", [\"Crystal Ball\"]),\n",
        "             (\"1,14,12,19,100\", [\"Go on\"]),\n",
        "             (\"100,140,12,19,100\", [\"Go on\"]),\n",
        "             (\"111,24,17,133,100\", [\"Go on\"]),\n",
        "             (\"13,10,13,13,100\", [\"Crystal Ball\"]),\n",
        "             (\"13,13,13,13,100\", [\"Crystal Ball\"]),\n",
        "             (\"13,10,98,13,200\", [\"Crystal Ball\"]),\n",
        "             ]\n",
        "for inp, out in test_data:\n",
        "    with Tester(inp.split(\",\")) as t:\n",
        "        bad_fortune()\n",
        "        line_t = \"\".join(t)\n",
        "        t = line_t.splitlines()\n",
        "        assert len(t) == len(out), \"Неверный ответ\"\n",
        "        for l_test, l_out in zip(t, out):\n",
        "            assert len(l_test.split()) == len(l_out.split()), \"Неверный ответ\"\n",
        "            for el_test, el_out in zip(l_test.split(), l_out.split()):\n",
        "                assert el_test == el_out, \"Неверный ответ\""
      ]
    },
    {
      "cell_type": "markdown",
      "metadata": {
        "id": "5WUie01Tjvx9"
      },
      "source": [
        "### Задача 6.  Fanstastic beasts (1 балл)\n",
        "\n",
        "Хагрид, мечтающий о драконе, случайно забрел в нелегальный зоомагазин с экзотическими животными в Лютном переулке.\n",
        "Хагриду нужно выполнить много дел по поручению Дамблдора, поэтому, как только он увидит любого дракона, он сразу его купит и убежит, не глядя на остальных животных.\n",
        "\n",
        "Напишите программу, которая работает со списком продаваемых животных и выводит на экран число животных, на которых должен посмотреть Хагрид, прежде чем увидит дракона.\n",
        "\n",
        "Определите функцию `count_beasts()`, которая:\n",
        "\n",
        "* принимает на вход один аргумент – список продаваемых животных `animals` (список строк);\n",
        "* возвращает число элементов списка до первого названия, содержащего слово «дракон» (целое число)."
      ]
    },
    {
      "cell_type": "code",
      "execution_count": 59,
      "metadata": {
        "nbgrader": {
          "grade": false,
          "grade_id": "cell-9351e580938e2654",
          "locked": false,
          "schema_version": 3,
          "solution": true,
          "task": false
        },
        "id": "iZ46MI6Rjvx9"
      },
      "outputs": [],
      "source": [
        "### YOUR CODE HERE ###\n",
        "def count_beasts(a):\n",
        "  empty=[]\n",
        "  if 'dragon' in a[0]:\n",
        "    return 0\n",
        "  else:\n",
        "    for i in a:\n",
        "      if 'dragon' in i:\n",
        "        break\n",
        "      else:\n",
        "        empty.append(i)\n",
        "    return len(empty)\n",
        ""
      ]
    },
    {
      "cell_type": "code",
      "execution_count": 60,
      "metadata": {
        "colab": {
          "base_uri": "https://localhost:8080/"
        },
        "id": "OXEXWwrTjvx-",
        "outputId": "cc78b3e2-dd1c-4055-cde6-3e410eff200d"
      },
      "outputs": [
        {
          "output_type": "execute_result",
          "data": {
            "text/plain": [
              "5"
            ]
          },
          "metadata": {},
          "execution_count": 60
        }
      ],
      "source": [
        "# списки, на которых можно потестить свою функцию\n",
        "\n",
        "L1 = [\"manticore\", \"firecrab\", \"dugbog\", \"acromantula\", \"blast-ended skrewt\",\n",
        "      \"hebridean black (dragon)\", \"occamy\", \"peruvian vipertooth (dragon)\"]\n",
        "\n",
        "L2 = [\"hebridean black (dragon)\", \"firecrab\", \"acromantula\", \"blast-ended skrewt\",\n",
        "      \"occamy\", \"peruvian vipertooth (dragon)\"]\n",
        "\n",
        "L3 = [\"kelpie\", \"firecrab\", \"acromantula\", \"ukrainian ironbelly (dragon)\",\n",
        "      \"swedish short-snout (dragon)\", \"blast-ended skrewt\"]\n",
        "\n",
        "count_beasts(L1)"
      ]
    },
    {
      "cell_type": "code",
      "execution_count": 61,
      "metadata": {
        "nbgrader": {
          "grade": true,
          "grade_id": "cell-c81fb49aaee3e9a2",
          "locked": true,
          "points": 1,
          "schema_version": 3,
          "solution": false,
          "task": false
        },
        "id": "9SprxT3vjvx-"
      },
      "outputs": [],
      "source": [
        "L1 = [\"manticore\", \"firecrab\", \"dugbog\", \"acromantula\", \"blast-ended skrewt\",\n",
        "      \"hebridean black (dragon)\", \"occamy\", \"peruvian vipertooth (dragon)\"]\n",
        "\n",
        "L2 = [\"hebridean black (dragon)\", \"firecrab\", \"acromantula\", \"blast-ended skrewt\",\n",
        "      \"occamy\", \"peruvian vipertooth (dragon)\"]\n",
        "\n",
        "L3 = [\"kelpie\", \"firecrab\", \"acromantula\", \"ukrainian ironbelly (dragon)\",\n",
        "      \"swedish short-snout (dragon)\", \"blast-ended skrewt\"]\n",
        "\n",
        "assert count_beasts(L1) == 5, \"Неверно\"\n",
        "assert count_beasts(L2) == 0, \"Неверно\"\n",
        "assert count_beasts(L3) == 3, \"Неверно\"\n",
        "assert count_beasts(L1 + L2) == 5, \"Неверно\"\n",
        "assert count_beasts(L3[0:2] + L2) == 2, \"Неверно\""
      ]
    },
    {
      "cell_type": "markdown",
      "metadata": {
        "id": "S-YypJvDjvx_"
      },
      "source": [
        "### Задача 7. Never tickle a sleeping dragon  (1 балл)\n",
        "\n",
        "Фред и Джордж, обидевшись на своего одногруппника, подложили ему в сумку волшебное перо со сломанной функцией автокоррекции.\n",
        "Поломка выражается в следующем: сочетание *snake fangs* (змеиные клыки) при написании заменяется на *Snape fangs*. Одногруппник этим пером написал контрольную работу по зельеварению и ничего не заметил.\n",
        "\n",
        "Напишите программу, которая запрашивает с клавиатуры текст ответов на вопрос об ингредиентах зелья и выводит на экран число штрафных очков, которое будет получено, если известно, что профессор Снейп за каждую подобную замену будет начислять 5 штрафных очков.\n",
        "\n",
        "**Примеры работы программы:**\n",
        "\n",
        "Ввод:\n",
        "\n",
        "    1 porcupine quills, Snape fangs, horned slugs, 2 Snape fangs, wolfsbane\n",
        "\n",
        "Вывод:\n",
        "\n",
        "    10\n",
        "    \n",
        "Ввод:\n",
        "\n",
        "    1 porcupine quills, horned slugs, 2 wolfsbane ?\n",
        "\n",
        "Вывод:\n",
        "\n",
        "    0\n",
        "    \n",
        "Ввод:\n",
        "\n",
        "    1 fanged geranium, Snape fangs, 2 Snape fangs, chizpurfle fangs, 3 Snape fangs, wolfsbane\n",
        "\n",
        "Вывод:\n",
        "\n",
        "    15"
      ]
    },
    {
      "cell_type": "code",
      "execution_count": 79,
      "metadata": {
        "nbgrader": {
          "grade": false,
          "grade_id": "cell-432e37de69f8e795",
          "locked": false,
          "schema_version": 3,
          "solution": true,
          "task": false
        },
        "colab": {
          "base_uri": "https://localhost:8080/"
        },
        "id": "V-62-0Nkjvx_",
        "outputId": "df087bbe-2e7c-41f9-8a56-e5ff6be7380f"
      },
      "outputs": [
        {
          "output_type": "stream",
          "name": "stdout",
          "text": [
            "1 fanged geranium, Snape fangs, 2 Snape fangs, chizpurfle fangs, 3 Snape fangs, wolfsbane\n",
            "15\n"
          ]
        }
      ],
      "source": [
        "def never_tickle():\n",
        "\n",
        "    ### YOUR CODE HERE ###\n",
        "    a = input()\n",
        "    j=0\n",
        "    for i in a.split(','):\n",
        "      if 'Snape fangs' in i:\n",
        "        j+=5\n",
        "    print(j)\n",
        "\n",
        "never_tickle()"
      ]
    },
    {
      "cell_type": "code",
      "execution_count": 80,
      "metadata": {
        "nbgrader": {
          "grade": true,
          "grade_id": "cell-0bc377427138a2f7",
          "locked": true,
          "points": 1,
          "schema_version": 3,
          "solution": false,
          "task": false
        },
        "id": "vaytwJNPjvyA"
      },
      "outputs": [],
      "source": [
        "test_data = [\n",
        "    (\"1 porcupine quills, Snape fangs, horned slugs, 2 Snape fangs, wolfsbane\", \"10\"),\n",
        "    (\"1 porcupine quills, horned slugs, 2 wolfsbane ?\", \"0\"),\n",
        "    (\"1 fanged geranium, Snape fangs, 2 Snape fangs, chizpurfle fangs, 3 Snape fangs, wolfsbane\", \"15\"),\n",
        "    (\"1 Snape fangs, Snape fangs, wolfsbane\", \"10\"),\n",
        "    (\"Snape fangs, porcupine quills\", \"5\"),\n",
        "    (\"Snape fangs, Snape fangs, Snape fangs, Snape fangs\", \"20\"),\n",
        "    (\"salamander blood, lionfish spines, flobberworm mucus\", \"0\"),\n",
        "]\n",
        "\n",
        "for inp, out in test_data:\n",
        "    with Tester([inp]) as t:\n",
        "        never_tickle()\n",
        "        assert len(t) == 1, \"Неверный ответ\"\n",
        "        assert t[0] == out+\"\\n\", \"Неверный ответ\""
      ]
    },
    {
      "cell_type": "markdown",
      "metadata": {
        "id": "mgcWrDTDjvyA"
      },
      "source": [
        "### Задача 8.  Subtle science (2 балла)\n",
        "\n",
        "Реализуйте программу, которая обновляет словарь с ингредиентами зелья.\n",
        "\n",
        "Определите функцию `add_item()`, которая принимает три аргумента:\n",
        "\n",
        "* `recipy` — непустой словарь;\n",
        "* `item` — название ингредиента (строка);\n",
        "* `quantity` – необходимое количество ингредиента в граммах (целое число).\n",
        "\n",
        "Если запись с ключом `item` уже есть в словаре, соответствующее ему количество заменяется на значение `quantity`. Если записи с таким ключом нет, она добавляется в словарь. В итоге функция `add_item` возвращает обновленный словарь `recipy`.\n",
        "\n",
        "**Примеры работы программы:**\n",
        "\n",
        "Ввод:\n",
        "\n",
        "    add_item({\"ginger\" : 25,\n",
        "          \"springwater\": 400,\n",
        "          \"snake fangs\" : 50}, \"snake fangs\", 100)\n",
        "          \n",
        "Результат:\n",
        "\n",
        "    {'ginger': 25, 'springwater': 400, 'snake fangs': 100}\n",
        "  \n",
        "Ввод:\n",
        "\n",
        "    add_item({\"ginger\" : 25,\n",
        "          \"springwater\": 400,\n",
        "          \"snake fangs\" : 50}, \"lichi\", 60)\n",
        "          \n",
        "Результат:\n",
        "\n",
        "    {'ginger': 25, 'springwater': 400, 'snake fangs': 50, 'lichi': 60}"
      ]
    },
    {
      "cell_type": "code",
      "execution_count": 110,
      "metadata": {
        "nbgrader": {
          "grade": false,
          "grade_id": "cell-46d5495ed07c8462",
          "locked": false,
          "schema_version": 3,
          "solution": true,
          "task": false
        },
        "colab": {
          "base_uri": "https://localhost:8080/"
        },
        "id": "U3e7ofl-jvyB",
        "outputId": "6dc4eaf1-f07c-440d-d7f5-67374bd89128"
      },
      "outputs": [
        {
          "output_type": "execute_result",
          "data": {
            "text/plain": [
              "{'ginger': 25, 'springwater': 400, 'snake fangs': 100}"
            ]
          },
          "metadata": {},
          "execution_count": 110
        }
      ],
      "source": [
        "### YOUR CODE HERE ###\n",
        "def add_item(a,b,c):\n",
        "  a[b]=c\n",
        "  return a\n",
        "\n",
        "add_item({\"ginger\" : 25,\n",
        "      \"springwater\": 400,\n",
        "      \"snake fangs\" : 50}, \"snake fangs\", 100)\n"
      ]
    },
    {
      "cell_type": "code",
      "execution_count": 111,
      "metadata": {
        "nbgrader": {
          "grade": true,
          "grade_id": "cell-6e833df0cb2d6559",
          "locked": true,
          "points": 2,
          "schema_version": 3,
          "solution": false,
          "task": false
        },
        "id": "EaZSi2u2jvyC"
      },
      "outputs": [],
      "source": [
        "assert add_item({\"ginger\" : 25,\n",
        "      \"springwater\": 400,\n",
        "      \"snake fangs\" : 50}, \"snake fangs\", 100) == {'ginger': 25,\n",
        "                                                   'springwater': 400,\n",
        "                                                   'snake fangs': 100}, \"Неверный ответ\"\n",
        "assert add_item({\"ginger\" : 25,\n",
        "      \"springwater\": 400,\n",
        "      \"snake fangs\" : 50}, \"lichi\", 60) == {'ginger': 25,\n",
        "                                            'springwater': 400,\n",
        "                                            'snake fangs': 50,\n",
        "                                            'lichi': 60}, \"Неверный ответ\""
      ]
    },
    {
      "cell_type": "markdown",
      "metadata": {
        "id": "fctkHgHkjvyC"
      },
      "source": [
        "### Задача 9. To sum up (3 балла)\n",
        "\n",
        "Необходимо определить, размах оценок за какую из форм контроля по курсу трансфигурации больше (размах вычисляется как разность между максимальным и минимальным значением).\n",
        "\n",
        "**ТРЕБУЕМАЯ ФУНКЦИЯ**\n",
        "\n",
        "* Функция `compare()`, которая принимает на вход словарь и две строки.\n",
        "* Ключами словаря являются имена студентов, значениями словаря – словари с их оценками по трем формам контроля. Гарантируется, что все вложенные словари состоят из одинакового числа элементов.\n",
        "* Первая строка – название одной формы контроля, вторая строка – название второй формы контроля.\n",
        "* Функция должна возвращать строку с названием формы контроля, размах оценок за которую больше.\n",
        "\n",
        "\n",
        "**Примеры работы функции:**\n",
        "\n",
        "Ввод:\n",
        "\n",
        "    grades = {\n",
        "        \"Гермиона Грейнджер\" : {\"эссе\" : 100, \"тест\" : 98,\n",
        "                               \"практикум\" : 100},\n",
        "        \"Гарри Поттер\" : {\"эссе\" : 68, \"тест\" : 70, \"практикум\" : 82},\n",
        "        \"Рон Уизли\" : {\"эссе\" : 56, \"тест\" : 60, \"практикум\" : 44},\n",
        "        \"Лаванда Браун\" : {\"эссе\" : 52, \"тест\" : 48, \"практикум\" : 56},\n",
        "        \"Полумна Лавгуд\" : {\"эссе\" : 85, \"тест\" : 72, \"практикум\" : 92},\n",
        "    }\n",
        "    \n",
        "    compare(grades, \"эссе\", \"тест\")\n",
        "\n",
        "Результат:\n",
        "\n",
        "    'тест'\n",
        "    \n",
        "    \n",
        "Ввод:\n",
        "\n",
        "    grades = {\n",
        "        \"Гермиона Грейнджер\" : {\"эссе\" : 100, \"тест\" : 98,\n",
        "                               \"практикум\" : 100},\n",
        "        \"Гарри Поттер\" : {\"эссе\" : 68, \"тест\" : 70, \"практикум\" : 82},\n",
        "        \"Рон Уизли\" : {\"эссе\" : 56, \"тест\" : 60, \"практикум\" : 44},\n",
        "        \"Лаванда Браун\" : {\"эссе\" : 52, \"тест\" : 48, \"практикум\" : 56},\n",
        "        \"Полумна Лавгуд\" : {\"эссе\" : 85, \"тест\" : 72, \"практикум\" : 92},\n",
        "    }\n",
        "\n",
        "    compare(grades, \"практикум\", \"тест\")\n",
        "\n",
        "Результат:\n",
        "\n",
        "    'практикум'\n",
        "    \n",
        "Ввод:\n",
        "\n",
        "    grades = {\n",
        "        \"Гермиона Грейнджер\" : {\"эссе\" : 95, \"тест\" : 94,\n",
        "                               \"практикум\" : 87},\n",
        "        \"Гарри Поттер\" : {\"эссе\" : 75, \"тест\" : 40, \"практикум\" : 34},\n",
        "        \"Рон Уизли\" : {\"эссе\" : 73, \"тест\" : 40, \"практикум\" : 14}\n",
        "    }\n",
        "\n",
        "    compare(grades, \"эссе\", \"практикум\")\n",
        "\n",
        "Результат:\n",
        "\n",
        "    'практикум'    "
      ]
    },
    {
      "cell_type": "code",
      "execution_count": 141,
      "metadata": {
        "nbgrader": {
          "grade": false,
          "grade_id": "cell-b7cff997172c0dd3",
          "locked": false,
          "schema_version": 3,
          "solution": true,
          "task": false
        },
        "id": "RST1A33fjvyC"
      },
      "outputs": [],
      "source": [
        "### YOUR CODE HERE ###\n",
        "def compare(a,b,c):\n",
        "  j=[]\n",
        "  k=[]\n",
        "\n",
        "  for i in a.values():\n",
        "    if b in i:\n",
        "      j.append(i[b])\n",
        "    if c in i:\n",
        "      k.append(i[c])\n",
        "  var1=max(j)-min(j)\n",
        "  var2=max(k)-min(k)\n",
        "\n",
        "  if var1>var2:\n",
        "   return b\n",
        "  else:\n",
        "   return c\n"
      ]
    },
    {
      "cell_type": "code",
      "execution_count": 142,
      "metadata": {
        "nbgrader": {
          "grade": true,
          "grade_id": "cell-5445629b66f5547e",
          "locked": true,
          "points": 3,
          "schema_version": 3,
          "solution": false,
          "task": false
        },
        "colab": {
          "base_uri": "https://localhost:8080/",
          "height": 35
        },
        "id": "2tLfiQyojvyD",
        "outputId": "0cc7baca-3932-4baa-ea9c-800001ec9e83"
      },
      "outputs": [
        {
          "output_type": "execute_result",
          "data": {
            "text/plain": [
              "'практикум'"
            ],
            "application/vnd.google.colaboratory.intrinsic+json": {
              "type": "string"
            }
          },
          "metadata": {},
          "execution_count": 142
        }
      ],
      "source": [
        "# словари, на которых можно потестить свою функцию\n",
        "\n",
        "D1 = {\n",
        "    \"Гермиона Грейнджер\" : {\"эссе\" : 100, \"тест\" : 98, \"практикум\" : 100},\n",
        "    \"Гарри Поттер\" : {\"эссе\" : 68, \"тест\" : 70, \"практикум\" : 82},\n",
        "    \"Рон Уизли\" : {\"эссе\" : 56, \"тест\" : 60, \"практикум\" : 44},\n",
        "    \"Лаванда Браун\" : {\"эссе\" : 52, \"тест\" : 48, \"практикум\" : 56},\n",
        "    \"Полумна Лавгуд\" : {\"эссе\" : 85, \"тест\" : 72, \"практикум\" : 92}\n",
        "}\n",
        "\n",
        "D2 = {\n",
        "    \"Гермиона Грейнджер\" : {\"эссе\" : 95, \"тест\" : 94,\n",
        "                           \"практикум\" : 87},\n",
        "    \"Гарри Поттер\" : {\"эссе\" : 75, \"тест\" : 40, \"практикум\" : 34},\n",
        "    \"Рон Уизли\" : {\"эссе\" : 73, \"тест\" : 40, \"практикум\" : 14}\n",
        "}\n",
        "\n",
        "compare(D1,\"эссе\", \"практикум\")"
      ]
    },
    {
      "cell_type": "code",
      "execution_count": 143,
      "metadata": {
        "id": "ufF6EA_6jvyD"
      },
      "outputs": [],
      "source": [
        "D1 = {\n",
        "    \"Гермиона Грейнджер\" : {\"эссе\" : 100, \"тест\" : 98, \"практикум\" : 100},\n",
        "    \"Гарри Поттер\" : {\"эссе\" : 68, \"тест\" : 70, \"практикум\" : 82},\n",
        "    \"Рон Уизли\" : {\"эссе\" : 56, \"тест\" : 60, \"практикум\" : 44},\n",
        "    \"Лаванда Браун\" : {\"эссе\" : 52, \"тест\" : 48, \"практикум\" : 56},\n",
        "    \"Полумна Лавгуд\" : {\"эссе\" : 85, \"тест\" : 72, \"практикум\" : 92}\n",
        "}\n",
        "\n",
        "D2 = {\n",
        "    \"Гермиона Грейнджер\" : {\"эссе\" : 95, \"тест\" : 94,\n",
        "                           \"практикум\" : 87},\n",
        "    \"Гарри Поттер\" : {\"эссе\" : 75, \"тест\" : 40, \"практикум\" : 34},\n",
        "    \"Рон Уизли\" : {\"эссе\" : 73, \"тест\" : 40, \"практикум\" : 14}\n",
        "}\n",
        "\n",
        "assert compare(D1, \"эссе\", \"тест\") == \"тест\", \"Неверный ответ\"\n",
        "assert compare(D1, \"практикум\", \"тест\") == \"практикум\", \"Неверный ответ\"\n",
        "assert compare(D2, \"эссе\", \"практикум\") == \"практикум\", \"Неверный ответ\""
      ]
    },
    {
      "cell_type": "markdown",
      "metadata": {
        "id": "Gjg3cUqcjvyE"
      },
      "source": [
        "### Задача 10. Wild problem (3 балла)\n",
        "\n",
        "Хагрид производит контрольное взвешивание своих магических существ. Помогите ему собрать информацию об изменениях веса существ.\n",
        "\n",
        "**ФОРМАТ ВВОДА**\n",
        "\n",
        "* Записи о взвешенных существах: через точку с запятой название зверя, вес зверя при взвешивании в прошлом месяце, вес зверя в текущем месяце. Оба значения веса – целые числа, измерены в одинаковых единицах измерения. Каждая запись вводится с новой строки. Название существа может содержать любые символы, кроме точки с запятой.\n",
        "* Так как Хагрид немного рассеян, названия существ могут повторяться. То есть по одному и тому же существу могут быть разные записи, в которых название зверя одинаковое, а значения веса в текущем месяце – разные из-за погрешности весов.\n",
        "* Когда записи заканчиваются, на отдельной строке вводится слово \"FINITA\".\n",
        "\n",
        "**ФОРМАТ ВЫВОДА**\n",
        "\n",
        "* Список пар (одна пара – кортеж), в которых на первом месте должно быть название существа (строка), а на втором – набранный существом за месяц вес (целое число). Пары в списке должны быть отсортированы по убыванию набранного веса. При этом все звери в списке должны быть уникальны: если при вводе возникали записи с одинаковым названием существа, учитывалась только первая из них.\n",
        "\n",
        "**Примеры работы программы**\n",
        "\n",
        "Ввод:\n",
        "\n",
        "    niffler;200;230\n",
        "    bowtruckle;5;7\n",
        "    baby dragon;1000;1200\n",
        "    niffler;200;225\n",
        "    porlock;600;650\n",
        "    porlock;600;660\n",
        "    FINITA\n",
        "\n",
        "Результат:\n",
        "\n",
        "    [('baby dragon', 200), ('porlock', 50), ('niffler', 30),('bowtruckle', 2)]\n",
        "\n",
        "Ввод:\n",
        "\n",
        "    bowtruckle;5;9\n",
        "    bowtruckle;5;8\n",
        "    fairy;2;2\n",
        "    firecrab;400;700\n",
        "    FINITA\n",
        "\n",
        "Результат:\n",
        "\n",
        "    [('firecrab', 300), ('bowtruckle', 4), ('fairy', 0)]"
      ]
    },
    {
      "cell_type": "code",
      "execution_count": null,
      "metadata": {
        "nbgrader": {
          "grade": false,
          "grade_id": "cell-89a5241438aacb83",
          "locked": false,
          "schema_version": 3,
          "solution": true,
          "task": false
        },
        "id": "D2FlZ6EZjvyE"
      },
      "outputs": [],
      "source": [
        "### YOUR CODE HERE ###"
      ]
    },
    {
      "cell_type": "code",
      "execution_count": null,
      "metadata": {
        "nbgrader": {
          "grade": true,
          "grade_id": "cell-b67f4b4f8a73ea03",
          "locked": true,
          "points": 3,
          "schema_version": 3,
          "solution": false,
          "task": false
        },
        "id": "exa3ldusjvyF"
      },
      "outputs": [],
      "source": [
        "test_data = [(\"bowtruckle;5;9&bowtruckle;5;8&fairy;2;2&firecrab;400;700&FINITA\",\n",
        "              [\"[('firecrab', 300), ('bowtruckle', 4), ('fairy', 0)]\"]),\n",
        "             (\"niffler;200;230&bowtruckle;5;7&baby dragon;1000;1200&niffler;200;225&porlock;600;650&porlock;600;660&FINITA\",\n",
        "              [\"[('baby dragon', 200), ('porlock', 50), ('niffler', 30), ('bowtruckle', 2)]\"]),\n",
        "             (\"niffler;200;230&fairy;2;2&FINITA\",\n",
        "              [\"[('niffler', 30), ('fairy', 0)]\"])\n",
        "             ]\n",
        "for inp, out in test_data:\n",
        "    with Tester(inp.split(\"&\")) as t:\n",
        "        problem16()\n",
        "        line_t = \"\".join(t)\n",
        "        t = line_t.splitlines()\n",
        "        assert len(t) == len(out), \"Неверный ответ\"\n",
        "        for l_test, l_out in zip(t, out):\n",
        "            assert len(l_test.split()) == len(l_out.split()), \"Неверный ответ\"\n",
        "            for el_test, el_out in zip(l_test.split(), l_out.split()):\n",
        "                assert el_test == el_out, \"Неверный ответ\""
      ]
    },
    {
      "cell_type": "markdown",
      "metadata": {
        "id": "IBCA98_QjvyF"
      },
      "source": [
        "## Часть 2: библиотека pandas (12 баллов)\n",
        "\n",
        "Так как задания в этой части либо простые, легко проверяемые визуально (можно посмотреть и увидеть, правильно ли что-то отфильтровано или добавлено), либо не предполагающие единственного верного формата решения, автоматических тестов тут нет."
      ]
    },
    {
      "cell_type": "markdown",
      "metadata": {
        "id": "JF2d5vgUjvyN"
      },
      "source": [
        "### Данные\n",
        "\n",
        "В файле `hp_upd.csv` сохранена информация по героям из вселенной Дж.Роулинг:\n",
        "\n",
        "* `Name`: имя героя;\n",
        "* `Gender`: пол героя;\n",
        "* `Job`: должность;\n",
        "* `House`: факультет;\n",
        "* `Wand`: характеристика палочки;\n",
        "* `Patronus`: патронус;\n",
        "* `Species`: вид;\n",
        "* `Blood.status`: статус крови;\n",
        "* `Hair.colour`: цвет волос;\n",
        "* `Eye.colour`: цвет глаз;\n",
        "* `Loyalty`: указание, на чьей стороне;\n",
        "* `Skills`: навыки и особые умения;\n",
        "* `Birth`: дата рождения;\n",
        "* `Death`: дата смерти;\n",
        "* `Wand.length`: длина палочки в дюймах;\n",
        "* `Birth.year`: год рождения;\n",
        "* `End.year`: год смерти;\n",
        "* `Age`: примерный возраст на 2021 год."
      ]
    },
    {
      "cell_type": "markdown",
      "metadata": {
        "id": "oHmnV6ssjvyO"
      },
      "source": [
        "**(1 балл)** Загрузите файл с данными и сохраните таблицу в виде датафрйма `pandas`."
      ]
    },
    {
      "cell_type": "code",
      "execution_count": 81,
      "metadata": {
        "nbgrader": {
          "grade": false,
          "grade_id": "cell-05c78d11d7c1842f",
          "locked": false,
          "schema_version": 3,
          "solution": true,
          "task": false
        },
        "id": "T5d8exihjvyO"
      },
      "outputs": [],
      "source": [
        "### YOUR CODE HERE ###\n",
        "import pandas as pd\n",
        "\n",
        "data = pd.read_csv(\"hp_upd.csv\")"
      ]
    },
    {
      "cell_type": "markdown",
      "metadata": {
        "id": "7Wsm2wwsjvyO"
      },
      "source": [
        "### Задача 1 (1 балл)\n",
        "\n",
        "Переименуйте столбец `Gender` в `Sex` и сохраните изменения в датафрейме."
      ]
    },
    {
      "cell_type": "code",
      "execution_count": 87,
      "metadata": {
        "nbgrader": {
          "grade": false,
          "grade_id": "cell-f55715ed983cc85d",
          "locked": false,
          "schema_version": 3,
          "solution": true,
          "task": false
        },
        "colab": {
          "base_uri": "https://localhost:8080/"
        },
        "id": "vjD9NUxJjvyP",
        "outputId": "8acb1fea-1b84-4622-d010-d79a65391025"
      },
      "outputs": [
        {
          "output_type": "execute_result",
          "data": {
            "text/plain": [
              "0        Male\n",
              "1        Male\n",
              "2      Female\n",
              "3        Male\n",
              "4        Male\n",
              "        ...  \n",
              "135    Female\n",
              "136      Male\n",
              "137      Male\n",
              "138      Male\n",
              "139      Male\n",
              "Name: Sex, Length: 140, dtype: object"
            ]
          },
          "metadata": {},
          "execution_count": 87
        }
      ],
      "source": [
        "### YOUR CODE HERE ###\n",
        "data = data.rename(columns={'Gender': 'Sex'})\n",
        "data['Sex']"
      ]
    },
    {
      "cell_type": "markdown",
      "metadata": {
        "id": "ULnfV7UsjvyP"
      },
      "source": [
        "### Задача 2 (1 балл)\n",
        "\n",
        "Выберите строки, соответствующие героям из Гриффиндора женского пола, и сохраните их в датафрейм `g_fem`."
      ]
    },
    {
      "cell_type": "code",
      "execution_count": 88,
      "metadata": {
        "nbgrader": {
          "grade": false,
          "grade_id": "cell-b9b49aff45c093c7",
          "locked": false,
          "schema_version": 3,
          "solution": true,
          "task": false
        },
        "id": "vmZ_t6VFjvyP"
      },
      "outputs": [],
      "source": [
        "### YOUR CODE HERE ###\n",
        "g_fem=data[data['Sex']=='Female']"
      ]
    },
    {
      "cell_type": "markdown",
      "metadata": {
        "id": "sv1995b9jvyQ"
      },
      "source": [
        "### Задача 3 (1 балл)\n",
        "\n",
        "Определите (используя `pandas`, не на глаз) число строк в датафрейме `g_fem`."
      ]
    },
    {
      "cell_type": "code",
      "execution_count": 92,
      "metadata": {
        "nbgrader": {
          "grade": false,
          "grade_id": "cell-13af304dac8ea4fb",
          "locked": false,
          "schema_version": 3,
          "solution": true,
          "task": false
        },
        "colab": {
          "base_uri": "https://localhost:8080/"
        },
        "id": "HNt-0hTYjvyQ",
        "outputId": "bd9062a7-b8ba-44dc-e2be-e85535cb0102"
      },
      "outputs": [
        {
          "output_type": "execute_result",
          "data": {
            "text/plain": [
              "49"
            ]
          },
          "metadata": {},
          "execution_count": 92
        }
      ],
      "source": [
        "### YOUR CODE HERE ###\n",
        "g_fem.shape[0]"
      ]
    },
    {
      "cell_type": "markdown",
      "metadata": {
        "id": "lpjQbtHojvyR"
      },
      "source": [
        "### Задача 4 (1 балл)\n",
        "\n",
        "Вычислите среднюю длину волшебных палочек и округлите ее до целых. Сохраните ответ в переменную `m`."
      ]
    },
    {
      "cell_type": "code",
      "execution_count": 95,
      "metadata": {
        "nbgrader": {
          "grade": false,
          "grade_id": "cell-abb1b827dd79c408",
          "locked": false,
          "schema_version": 3,
          "solution": true,
          "task": false
        },
        "colab": {
          "base_uri": "https://localhost:8080/"
        },
        "id": "HvP6sQ-cjvyR",
        "outputId": "71e9c690-0e99-4296-c6eb-8a2dfcd0f66c"
      },
      "outputs": [
        {
          "output_type": "execute_result",
          "data": {
            "text/plain": [
              "11.0"
            ]
          },
          "metadata": {},
          "execution_count": 95
        }
      ],
      "source": [
        "### YOUR CODE HERE ###\n",
        "m = data['Wand.length'].mean().round(0)\n",
        "m\n"
      ]
    },
    {
      "cell_type": "markdown",
      "metadata": {
        "id": "mr3k-NHajvyR"
      },
      "source": [
        "### Задача 5 (1 балл)\n",
        "\n",
        "Выберите строки, соответствующие героям с волшебными палочками длины выше среднего, и сохраните их в датафрейм `high`."
      ]
    },
    {
      "cell_type": "code",
      "execution_count": 96,
      "metadata": {
        "nbgrader": {
          "grade": false,
          "grade_id": "cell-7875462e940e7808",
          "locked": false,
          "schema_version": 3,
          "solution": true,
          "task": false
        },
        "id": "LFnDEz8ZjvyS"
      },
      "outputs": [],
      "source": [
        "### YOUR CODE HERE ###\n",
        "high = data[data['Wand.length']>m]"
      ]
    },
    {
      "cell_type": "markdown",
      "metadata": {
        "id": "3y4B8e9rjvyS"
      },
      "source": [
        "### Задача 6 (2 балла)\n",
        "\n",
        "Выведите таблицу частот для показателя `House` в датафрейме со строками, отобранными в предыдущей задаче."
      ]
    },
    {
      "cell_type": "code",
      "execution_count": 97,
      "metadata": {
        "nbgrader": {
          "grade": false,
          "grade_id": "cell-50fc0e71bb44ad12",
          "locked": false,
          "schema_version": 3,
          "solution": true,
          "task": false
        },
        "colab": {
          "base_uri": "https://localhost:8080/",
          "height": 358
        },
        "id": "A2YqhWncjvyT",
        "outputId": "aaa0688b-d4b2-490b-ac79-559d54f2cc0a"
      },
      "outputs": [
        {
          "output_type": "execute_result",
          "data": {
            "text/plain": [
              "                              Unnamed: 0  Id  Name  Sex  Job  Wand  Patronus  \\\n",
              "House                                                                          \n",
              "Beauxbatons Academy of Magic           3   3     3    3    2     3         3   \n",
              "Durmstrang Institute                   1   1     1    1    1     1         1   \n",
              "Gryffindor                            38  38    38   38   34    38        38   \n",
              "Hufflepuff                            13  13    13   13   12    13        13   \n",
              "Ravenclaw                             18  18    18   18   18    18        18   \n",
              "Slytherin                             28  28    28   27   24    28        27   \n",
              "\n",
              "                              Species  Blood.status  Hair.colour  Eye.colour  \\\n",
              "House                                                                          \n",
              "Beauxbatons Academy of Magic        3             3            3           2   \n",
              "Durmstrang Institute                1             1            1           1   \n",
              "Gryffindor                         38            37           36          28   \n",
              "Hufflepuff                         13            12           11           8   \n",
              "Ravenclaw                          18            17           13          12   \n",
              "Slytherin                          28            28           24          14   \n",
              "\n",
              "                              Loyalty  Skills  Birth  Death  Female  \\\n",
              "House                                                                 \n",
              "Beauxbatons Academy of Magic        1       3      2      0       3   \n",
              "Durmstrang Institute                0       1      1      0       1   \n",
              "Gryffindor                         34      34     38     11      38   \n",
              "Hufflepuff                          7      11     12      5      13   \n",
              "Ravenclaw                           7      14     18      4      18   \n",
              "Slytherin                          11      22     28      7      28   \n",
              "\n",
              "                              Wand.length  Birth.year  End.year  Age  \n",
              "House                                                                 \n",
              "Beauxbatons Academy of Magic            1           2         3    2  \n",
              "Durmstrang Institute                    1           1         1    1  \n",
              "Gryffindor                             12          36        38   36  \n",
              "Hufflepuff                              1           9        13    9  \n",
              "Ravenclaw                               4          16        18   16  \n",
              "Slytherin                               5          24        28   24  "
            ],
            "text/html": [
              "\n",
              "  <div id=\"df-4af720f3-d8d6-4725-8840-7af700e70361\" class=\"colab-df-container\">\n",
              "    <div>\n",
              "<style scoped>\n",
              "    .dataframe tbody tr th:only-of-type {\n",
              "        vertical-align: middle;\n",
              "    }\n",
              "\n",
              "    .dataframe tbody tr th {\n",
              "        vertical-align: top;\n",
              "    }\n",
              "\n",
              "    .dataframe thead th {\n",
              "        text-align: right;\n",
              "    }\n",
              "</style>\n",
              "<table border=\"1\" class=\"dataframe\">\n",
              "  <thead>\n",
              "    <tr style=\"text-align: right;\">\n",
              "      <th></th>\n",
              "      <th>Unnamed: 0</th>\n",
              "      <th>Id</th>\n",
              "      <th>Name</th>\n",
              "      <th>Sex</th>\n",
              "      <th>Job</th>\n",
              "      <th>Wand</th>\n",
              "      <th>Patronus</th>\n",
              "      <th>Species</th>\n",
              "      <th>Blood.status</th>\n",
              "      <th>Hair.colour</th>\n",
              "      <th>Eye.colour</th>\n",
              "      <th>Loyalty</th>\n",
              "      <th>Skills</th>\n",
              "      <th>Birth</th>\n",
              "      <th>Death</th>\n",
              "      <th>Female</th>\n",
              "      <th>Wand.length</th>\n",
              "      <th>Birth.year</th>\n",
              "      <th>End.year</th>\n",
              "      <th>Age</th>\n",
              "    </tr>\n",
              "    <tr>\n",
              "      <th>House</th>\n",
              "      <th></th>\n",
              "      <th></th>\n",
              "      <th></th>\n",
              "      <th></th>\n",
              "      <th></th>\n",
              "      <th></th>\n",
              "      <th></th>\n",
              "      <th></th>\n",
              "      <th></th>\n",
              "      <th></th>\n",
              "      <th></th>\n",
              "      <th></th>\n",
              "      <th></th>\n",
              "      <th></th>\n",
              "      <th></th>\n",
              "      <th></th>\n",
              "      <th></th>\n",
              "      <th></th>\n",
              "      <th></th>\n",
              "      <th></th>\n",
              "    </tr>\n",
              "  </thead>\n",
              "  <tbody>\n",
              "    <tr>\n",
              "      <th>Beauxbatons Academy of Magic</th>\n",
              "      <td>3</td>\n",
              "      <td>3</td>\n",
              "      <td>3</td>\n",
              "      <td>3</td>\n",
              "      <td>2</td>\n",
              "      <td>3</td>\n",
              "      <td>3</td>\n",
              "      <td>3</td>\n",
              "      <td>3</td>\n",
              "      <td>3</td>\n",
              "      <td>2</td>\n",
              "      <td>1</td>\n",
              "      <td>3</td>\n",
              "      <td>2</td>\n",
              "      <td>0</td>\n",
              "      <td>3</td>\n",
              "      <td>1</td>\n",
              "      <td>2</td>\n",
              "      <td>3</td>\n",
              "      <td>2</td>\n",
              "    </tr>\n",
              "    <tr>\n",
              "      <th>Durmstrang Institute</th>\n",
              "      <td>1</td>\n",
              "      <td>1</td>\n",
              "      <td>1</td>\n",
              "      <td>1</td>\n",
              "      <td>1</td>\n",
              "      <td>1</td>\n",
              "      <td>1</td>\n",
              "      <td>1</td>\n",
              "      <td>1</td>\n",
              "      <td>1</td>\n",
              "      <td>1</td>\n",
              "      <td>0</td>\n",
              "      <td>1</td>\n",
              "      <td>1</td>\n",
              "      <td>0</td>\n",
              "      <td>1</td>\n",
              "      <td>1</td>\n",
              "      <td>1</td>\n",
              "      <td>1</td>\n",
              "      <td>1</td>\n",
              "    </tr>\n",
              "    <tr>\n",
              "      <th>Gryffindor</th>\n",
              "      <td>38</td>\n",
              "      <td>38</td>\n",
              "      <td>38</td>\n",
              "      <td>38</td>\n",
              "      <td>34</td>\n",
              "      <td>38</td>\n",
              "      <td>38</td>\n",
              "      <td>38</td>\n",
              "      <td>37</td>\n",
              "      <td>36</td>\n",
              "      <td>28</td>\n",
              "      <td>34</td>\n",
              "      <td>34</td>\n",
              "      <td>38</td>\n",
              "      <td>11</td>\n",
              "      <td>38</td>\n",
              "      <td>12</td>\n",
              "      <td>36</td>\n",
              "      <td>38</td>\n",
              "      <td>36</td>\n",
              "    </tr>\n",
              "    <tr>\n",
              "      <th>Hufflepuff</th>\n",
              "      <td>13</td>\n",
              "      <td>13</td>\n",
              "      <td>13</td>\n",
              "      <td>13</td>\n",
              "      <td>12</td>\n",
              "      <td>13</td>\n",
              "      <td>13</td>\n",
              "      <td>13</td>\n",
              "      <td>12</td>\n",
              "      <td>11</td>\n",
              "      <td>8</td>\n",
              "      <td>7</td>\n",
              "      <td>11</td>\n",
              "      <td>12</td>\n",
              "      <td>5</td>\n",
              "      <td>13</td>\n",
              "      <td>1</td>\n",
              "      <td>9</td>\n",
              "      <td>13</td>\n",
              "      <td>9</td>\n",
              "    </tr>\n",
              "    <tr>\n",
              "      <th>Ravenclaw</th>\n",
              "      <td>18</td>\n",
              "      <td>18</td>\n",
              "      <td>18</td>\n",
              "      <td>18</td>\n",
              "      <td>18</td>\n",
              "      <td>18</td>\n",
              "      <td>18</td>\n",
              "      <td>18</td>\n",
              "      <td>17</td>\n",
              "      <td>13</td>\n",
              "      <td>12</td>\n",
              "      <td>7</td>\n",
              "      <td>14</td>\n",
              "      <td>18</td>\n",
              "      <td>4</td>\n",
              "      <td>18</td>\n",
              "      <td>4</td>\n",
              "      <td>16</td>\n",
              "      <td>18</td>\n",
              "      <td>16</td>\n",
              "    </tr>\n",
              "    <tr>\n",
              "      <th>Slytherin</th>\n",
              "      <td>28</td>\n",
              "      <td>28</td>\n",
              "      <td>28</td>\n",
              "      <td>27</td>\n",
              "      <td>24</td>\n",
              "      <td>28</td>\n",
              "      <td>27</td>\n",
              "      <td>28</td>\n",
              "      <td>28</td>\n",
              "      <td>24</td>\n",
              "      <td>14</td>\n",
              "      <td>11</td>\n",
              "      <td>22</td>\n",
              "      <td>28</td>\n",
              "      <td>7</td>\n",
              "      <td>28</td>\n",
              "      <td>5</td>\n",
              "      <td>24</td>\n",
              "      <td>28</td>\n",
              "      <td>24</td>\n",
              "    </tr>\n",
              "  </tbody>\n",
              "</table>\n",
              "</div>\n",
              "    <div class=\"colab-df-buttons\">\n",
              "\n",
              "  <div class=\"colab-df-container\">\n",
              "    <button class=\"colab-df-convert\" onclick=\"convertToInteractive('df-4af720f3-d8d6-4725-8840-7af700e70361')\"\n",
              "            title=\"Convert this dataframe to an interactive table.\"\n",
              "            style=\"display:none;\">\n",
              "\n",
              "  <svg xmlns=\"http://www.w3.org/2000/svg\" height=\"24px\" viewBox=\"0 -960 960 960\">\n",
              "    <path d=\"M120-120v-720h720v720H120Zm60-500h600v-160H180v160Zm220 220h160v-160H400v160Zm0 220h160v-160H400v160ZM180-400h160v-160H180v160Zm440 0h160v-160H620v160ZM180-180h160v-160H180v160Zm440 0h160v-160H620v160Z\"/>\n",
              "  </svg>\n",
              "    </button>\n",
              "\n",
              "  <style>\n",
              "    .colab-df-container {\n",
              "      display:flex;\n",
              "      gap: 12px;\n",
              "    }\n",
              "\n",
              "    .colab-df-convert {\n",
              "      background-color: #E8F0FE;\n",
              "      border: none;\n",
              "      border-radius: 50%;\n",
              "      cursor: pointer;\n",
              "      display: none;\n",
              "      fill: #1967D2;\n",
              "      height: 32px;\n",
              "      padding: 0 0 0 0;\n",
              "      width: 32px;\n",
              "    }\n",
              "\n",
              "    .colab-df-convert:hover {\n",
              "      background-color: #E2EBFA;\n",
              "      box-shadow: 0px 1px 2px rgba(60, 64, 67, 0.3), 0px 1px 3px 1px rgba(60, 64, 67, 0.15);\n",
              "      fill: #174EA6;\n",
              "    }\n",
              "\n",
              "    .colab-df-buttons div {\n",
              "      margin-bottom: 4px;\n",
              "    }\n",
              "\n",
              "    [theme=dark] .colab-df-convert {\n",
              "      background-color: #3B4455;\n",
              "      fill: #D2E3FC;\n",
              "    }\n",
              "\n",
              "    [theme=dark] .colab-df-convert:hover {\n",
              "      background-color: #434B5C;\n",
              "      box-shadow: 0px 1px 3px 1px rgba(0, 0, 0, 0.15);\n",
              "      filter: drop-shadow(0px 1px 2px rgba(0, 0, 0, 0.3));\n",
              "      fill: #FFFFFF;\n",
              "    }\n",
              "  </style>\n",
              "\n",
              "    <script>\n",
              "      const buttonEl =\n",
              "        document.querySelector('#df-4af720f3-d8d6-4725-8840-7af700e70361 button.colab-df-convert');\n",
              "      buttonEl.style.display =\n",
              "        google.colab.kernel.accessAllowed ? 'block' : 'none';\n",
              "\n",
              "      async function convertToInteractive(key) {\n",
              "        const element = document.querySelector('#df-4af720f3-d8d6-4725-8840-7af700e70361');\n",
              "        const dataTable =\n",
              "          await google.colab.kernel.invokeFunction('convertToInteractive',\n",
              "                                                    [key], {});\n",
              "        if (!dataTable) return;\n",
              "\n",
              "        const docLinkHtml = 'Like what you see? Visit the ' +\n",
              "          '<a target=\"_blank\" href=https://colab.research.google.com/notebooks/data_table.ipynb>data table notebook</a>'\n",
              "          + ' to learn more about interactive tables.';\n",
              "        element.innerHTML = '';\n",
              "        dataTable['output_type'] = 'display_data';\n",
              "        await google.colab.output.renderOutput(dataTable, element);\n",
              "        const docLink = document.createElement('div');\n",
              "        docLink.innerHTML = docLinkHtml;\n",
              "        element.appendChild(docLink);\n",
              "      }\n",
              "    </script>\n",
              "  </div>\n",
              "\n",
              "\n",
              "<div id=\"df-7a0160b2-8ea6-4e14-b64e-2c2b6b98047a\">\n",
              "  <button class=\"colab-df-quickchart\" onclick=\"quickchart('df-7a0160b2-8ea6-4e14-b64e-2c2b6b98047a')\"\n",
              "            title=\"Suggest charts.\"\n",
              "            style=\"display:none;\">\n",
              "\n",
              "<svg xmlns=\"http://www.w3.org/2000/svg\" height=\"24px\"viewBox=\"0 0 24 24\"\n",
              "     width=\"24px\">\n",
              "    <g>\n",
              "        <path d=\"M19 3H5c-1.1 0-2 .9-2 2v14c0 1.1.9 2 2 2h14c1.1 0 2-.9 2-2V5c0-1.1-.9-2-2-2zM9 17H7v-7h2v7zm4 0h-2V7h2v10zm4 0h-2v-4h2v4z\"/>\n",
              "    </g>\n",
              "</svg>\n",
              "  </button>\n",
              "\n",
              "<style>\n",
              "  .colab-df-quickchart {\n",
              "      --bg-color: #E8F0FE;\n",
              "      --fill-color: #1967D2;\n",
              "      --hover-bg-color: #E2EBFA;\n",
              "      --hover-fill-color: #174EA6;\n",
              "      --disabled-fill-color: #AAA;\n",
              "      --disabled-bg-color: #DDD;\n",
              "  }\n",
              "\n",
              "  [theme=dark] .colab-df-quickchart {\n",
              "      --bg-color: #3B4455;\n",
              "      --fill-color: #D2E3FC;\n",
              "      --hover-bg-color: #434B5C;\n",
              "      --hover-fill-color: #FFFFFF;\n",
              "      --disabled-bg-color: #3B4455;\n",
              "      --disabled-fill-color: #666;\n",
              "  }\n",
              "\n",
              "  .colab-df-quickchart {\n",
              "    background-color: var(--bg-color);\n",
              "    border: none;\n",
              "    border-radius: 50%;\n",
              "    cursor: pointer;\n",
              "    display: none;\n",
              "    fill: var(--fill-color);\n",
              "    height: 32px;\n",
              "    padding: 0;\n",
              "    width: 32px;\n",
              "  }\n",
              "\n",
              "  .colab-df-quickchart:hover {\n",
              "    background-color: var(--hover-bg-color);\n",
              "    box-shadow: 0 1px 2px rgba(60, 64, 67, 0.3), 0 1px 3px 1px rgba(60, 64, 67, 0.15);\n",
              "    fill: var(--button-hover-fill-color);\n",
              "  }\n",
              "\n",
              "  .colab-df-quickchart-complete:disabled,\n",
              "  .colab-df-quickchart-complete:disabled:hover {\n",
              "    background-color: var(--disabled-bg-color);\n",
              "    fill: var(--disabled-fill-color);\n",
              "    box-shadow: none;\n",
              "  }\n",
              "\n",
              "  .colab-df-spinner {\n",
              "    border: 2px solid var(--fill-color);\n",
              "    border-color: transparent;\n",
              "    border-bottom-color: var(--fill-color);\n",
              "    animation:\n",
              "      spin 1s steps(1) infinite;\n",
              "  }\n",
              "\n",
              "  @keyframes spin {\n",
              "    0% {\n",
              "      border-color: transparent;\n",
              "      border-bottom-color: var(--fill-color);\n",
              "      border-left-color: var(--fill-color);\n",
              "    }\n",
              "    20% {\n",
              "      border-color: transparent;\n",
              "      border-left-color: var(--fill-color);\n",
              "      border-top-color: var(--fill-color);\n",
              "    }\n",
              "    30% {\n",
              "      border-color: transparent;\n",
              "      border-left-color: var(--fill-color);\n",
              "      border-top-color: var(--fill-color);\n",
              "      border-right-color: var(--fill-color);\n",
              "    }\n",
              "    40% {\n",
              "      border-color: transparent;\n",
              "      border-right-color: var(--fill-color);\n",
              "      border-top-color: var(--fill-color);\n",
              "    }\n",
              "    60% {\n",
              "      border-color: transparent;\n",
              "      border-right-color: var(--fill-color);\n",
              "    }\n",
              "    80% {\n",
              "      border-color: transparent;\n",
              "      border-right-color: var(--fill-color);\n",
              "      border-bottom-color: var(--fill-color);\n",
              "    }\n",
              "    90% {\n",
              "      border-color: transparent;\n",
              "      border-bottom-color: var(--fill-color);\n",
              "    }\n",
              "  }\n",
              "</style>\n",
              "\n",
              "  <script>\n",
              "    async function quickchart(key) {\n",
              "      const quickchartButtonEl =\n",
              "        document.querySelector('#' + key + ' button');\n",
              "      quickchartButtonEl.disabled = true;  // To prevent multiple clicks.\n",
              "      quickchartButtonEl.classList.add('colab-df-spinner');\n",
              "      try {\n",
              "        const charts = await google.colab.kernel.invokeFunction(\n",
              "            'suggestCharts', [key], {});\n",
              "      } catch (error) {\n",
              "        console.error('Error during call to suggestCharts:', error);\n",
              "      }\n",
              "      quickchartButtonEl.classList.remove('colab-df-spinner');\n",
              "      quickchartButtonEl.classList.add('colab-df-quickchart-complete');\n",
              "    }\n",
              "    (() => {\n",
              "      let quickchartButtonEl =\n",
              "        document.querySelector('#df-7a0160b2-8ea6-4e14-b64e-2c2b6b98047a button');\n",
              "      quickchartButtonEl.style.display =\n",
              "        google.colab.kernel.accessAllowed ? 'block' : 'none';\n",
              "    })();\n",
              "  </script>\n",
              "</div>\n",
              "    </div>\n",
              "  </div>\n"
            ]
          },
          "metadata": {},
          "execution_count": 97
        }
      ],
      "source": [
        "### YOUR CODE HERE ###\n",
        "df1 = data.groupby(['House']).count()\n",
        "df1"
      ]
    },
    {
      "cell_type": "markdown",
      "metadata": {
        "id": "XOaDEkp_jvyT"
      },
      "source": [
        "### Задача 7 (1 балл)\n",
        "\n",
        "Добавьте в исходный датафрейм столбец `Wand.cm` со значениями длины волшебных палочек в сантиметрах (1 дюйм равен 2.54 сантиметрам)."
      ]
    },
    {
      "cell_type": "code",
      "execution_count": 102,
      "metadata": {
        "nbgrader": {
          "grade": false,
          "grade_id": "cell-3db8284352187de8",
          "locked": false,
          "schema_version": 3,
          "solution": true,
          "task": false
        },
        "id": "cAyK7LBnjvyT"
      },
      "outputs": [],
      "source": [
        "### YOUR CODE HERE ###\n",
        "data['Wand.cm']=data['Wand.length']*2.54"
      ]
    },
    {
      "cell_type": "markdown",
      "metadata": {
        "id": "hxhI_M8OjvyU"
      },
      "source": [
        "### Задача 8 (1 балл)\n",
        "\n",
        "Добавьте в исходный датафрейм столбец `Alive` из 0 и 1, где 1 соответствует героям, оставшимся в живых (год в `End.year` не 2021), а 0 – не оставшимся в живых (год 2021 в `End.year`)."
      ]
    },
    {
      "cell_type": "code",
      "execution_count": 115,
      "metadata": {
        "nbgrader": {
          "grade": false,
          "grade_id": "cell-50861a27f72ee774",
          "locked": false,
          "schema_version": 3,
          "solution": true,
          "task": false
        },
        "id": "vF3RwJEfjvyU"
      },
      "outputs": [],
      "source": [
        "### YOUR CODE HERE ###\n",
        "data['Alive'] = data[\"End.year\"].apply(lambda x: 1 if x == 2021 else 0)"
      ]
    },
    {
      "cell_type": "markdown",
      "metadata": {
        "id": "zVixNogCjvyV"
      },
      "source": [
        "### Задача 9 (2 балла)\n",
        "\n",
        "Сгруппируйте строки в исходном датафрейме по значениям в столбце `Alive` и выведите для каждой группы средний и максимальный возраст героев."
      ]
    },
    {
      "cell_type": "code",
      "execution_count": 116,
      "metadata": {
        "nbgrader": {
          "grade": false,
          "grade_id": "cell-eb2c94c6ac3d110a",
          "locked": false,
          "schema_version": 3,
          "solution": true,
          "task": false
        },
        "colab": {
          "base_uri": "https://localhost:8080/",
          "height": 198
        },
        "id": "xn0xx6EZjvyV",
        "outputId": "fe410f66-a11d-4211-c1f2-365df8fd2646"
      },
      "outputs": [
        {
          "output_type": "stream",
          "name": "stderr",
          "text": [
            "<ipython-input-116-f2ce6f019657>:2: FutureWarning: ['Name', 'Sex', 'Job', 'House', 'Wand', 'Patronus', 'Species', 'Blood.status', 'Hair.colour', 'Eye.colour', 'Loyalty', 'Skills', 'Birth', 'Death'] did not aggregate successfully. If any error is raised this will raise in a future version of pandas. Drop these columns/ops to avoid this warning.\n",
            "  data.groupby(\"Alive\").agg([\"mean\",\"max\"], numeric_only = True)['Age']\n"
          ]
        },
        {
          "output_type": "execute_result",
          "data": {
            "text/plain": [
              "            mean    max\n",
              "Alive                  \n",
              "0      38.740741  116.0\n",
              "1      52.034091  141.0"
            ],
            "text/html": [
              "\n",
              "  <div id=\"df-e74da2a6-392d-4690-9f74-c85bf622c32e\" class=\"colab-df-container\">\n",
              "    <div>\n",
              "<style scoped>\n",
              "    .dataframe tbody tr th:only-of-type {\n",
              "        vertical-align: middle;\n",
              "    }\n",
              "\n",
              "    .dataframe tbody tr th {\n",
              "        vertical-align: top;\n",
              "    }\n",
              "\n",
              "    .dataframe thead th {\n",
              "        text-align: right;\n",
              "    }\n",
              "</style>\n",
              "<table border=\"1\" class=\"dataframe\">\n",
              "  <thead>\n",
              "    <tr style=\"text-align: right;\">\n",
              "      <th></th>\n",
              "      <th>mean</th>\n",
              "      <th>max</th>\n",
              "    </tr>\n",
              "    <tr>\n",
              "      <th>Alive</th>\n",
              "      <th></th>\n",
              "      <th></th>\n",
              "    </tr>\n",
              "  </thead>\n",
              "  <tbody>\n",
              "    <tr>\n",
              "      <th>0</th>\n",
              "      <td>38.740741</td>\n",
              "      <td>116.0</td>\n",
              "    </tr>\n",
              "    <tr>\n",
              "      <th>1</th>\n",
              "      <td>52.034091</td>\n",
              "      <td>141.0</td>\n",
              "    </tr>\n",
              "  </tbody>\n",
              "</table>\n",
              "</div>\n",
              "    <div class=\"colab-df-buttons\">\n",
              "\n",
              "  <div class=\"colab-df-container\">\n",
              "    <button class=\"colab-df-convert\" onclick=\"convertToInteractive('df-e74da2a6-392d-4690-9f74-c85bf622c32e')\"\n",
              "            title=\"Convert this dataframe to an interactive table.\"\n",
              "            style=\"display:none;\">\n",
              "\n",
              "  <svg xmlns=\"http://www.w3.org/2000/svg\" height=\"24px\" viewBox=\"0 -960 960 960\">\n",
              "    <path d=\"M120-120v-720h720v720H120Zm60-500h600v-160H180v160Zm220 220h160v-160H400v160Zm0 220h160v-160H400v160ZM180-400h160v-160H180v160Zm440 0h160v-160H620v160ZM180-180h160v-160H180v160Zm440 0h160v-160H620v160Z\"/>\n",
              "  </svg>\n",
              "    </button>\n",
              "\n",
              "  <style>\n",
              "    .colab-df-container {\n",
              "      display:flex;\n",
              "      gap: 12px;\n",
              "    }\n",
              "\n",
              "    .colab-df-convert {\n",
              "      background-color: #E8F0FE;\n",
              "      border: none;\n",
              "      border-radius: 50%;\n",
              "      cursor: pointer;\n",
              "      display: none;\n",
              "      fill: #1967D2;\n",
              "      height: 32px;\n",
              "      padding: 0 0 0 0;\n",
              "      width: 32px;\n",
              "    }\n",
              "\n",
              "    .colab-df-convert:hover {\n",
              "      background-color: #E2EBFA;\n",
              "      box-shadow: 0px 1px 2px rgba(60, 64, 67, 0.3), 0px 1px 3px 1px rgba(60, 64, 67, 0.15);\n",
              "      fill: #174EA6;\n",
              "    }\n",
              "\n",
              "    .colab-df-buttons div {\n",
              "      margin-bottom: 4px;\n",
              "    }\n",
              "\n",
              "    [theme=dark] .colab-df-convert {\n",
              "      background-color: #3B4455;\n",
              "      fill: #D2E3FC;\n",
              "    }\n",
              "\n",
              "    [theme=dark] .colab-df-convert:hover {\n",
              "      background-color: #434B5C;\n",
              "      box-shadow: 0px 1px 3px 1px rgba(0, 0, 0, 0.15);\n",
              "      filter: drop-shadow(0px 1px 2px rgba(0, 0, 0, 0.3));\n",
              "      fill: #FFFFFF;\n",
              "    }\n",
              "  </style>\n",
              "\n",
              "    <script>\n",
              "      const buttonEl =\n",
              "        document.querySelector('#df-e74da2a6-392d-4690-9f74-c85bf622c32e button.colab-df-convert');\n",
              "      buttonEl.style.display =\n",
              "        google.colab.kernel.accessAllowed ? 'block' : 'none';\n",
              "\n",
              "      async function convertToInteractive(key) {\n",
              "        const element = document.querySelector('#df-e74da2a6-392d-4690-9f74-c85bf622c32e');\n",
              "        const dataTable =\n",
              "          await google.colab.kernel.invokeFunction('convertToInteractive',\n",
              "                                                    [key], {});\n",
              "        if (!dataTable) return;\n",
              "\n",
              "        const docLinkHtml = 'Like what you see? Visit the ' +\n",
              "          '<a target=\"_blank\" href=https://colab.research.google.com/notebooks/data_table.ipynb>data table notebook</a>'\n",
              "          + ' to learn more about interactive tables.';\n",
              "        element.innerHTML = '';\n",
              "        dataTable['output_type'] = 'display_data';\n",
              "        await google.colab.output.renderOutput(dataTable, element);\n",
              "        const docLink = document.createElement('div');\n",
              "        docLink.innerHTML = docLinkHtml;\n",
              "        element.appendChild(docLink);\n",
              "      }\n",
              "    </script>\n",
              "  </div>\n",
              "\n",
              "\n",
              "<div id=\"df-f55d8969-c07e-4b20-9375-94ca088838df\">\n",
              "  <button class=\"colab-df-quickchart\" onclick=\"quickchart('df-f55d8969-c07e-4b20-9375-94ca088838df')\"\n",
              "            title=\"Suggest charts.\"\n",
              "            style=\"display:none;\">\n",
              "\n",
              "<svg xmlns=\"http://www.w3.org/2000/svg\" height=\"24px\"viewBox=\"0 0 24 24\"\n",
              "     width=\"24px\">\n",
              "    <g>\n",
              "        <path d=\"M19 3H5c-1.1 0-2 .9-2 2v14c0 1.1.9 2 2 2h14c1.1 0 2-.9 2-2V5c0-1.1-.9-2-2-2zM9 17H7v-7h2v7zm4 0h-2V7h2v10zm4 0h-2v-4h2v4z\"/>\n",
              "    </g>\n",
              "</svg>\n",
              "  </button>\n",
              "\n",
              "<style>\n",
              "  .colab-df-quickchart {\n",
              "      --bg-color: #E8F0FE;\n",
              "      --fill-color: #1967D2;\n",
              "      --hover-bg-color: #E2EBFA;\n",
              "      --hover-fill-color: #174EA6;\n",
              "      --disabled-fill-color: #AAA;\n",
              "      --disabled-bg-color: #DDD;\n",
              "  }\n",
              "\n",
              "  [theme=dark] .colab-df-quickchart {\n",
              "      --bg-color: #3B4455;\n",
              "      --fill-color: #D2E3FC;\n",
              "      --hover-bg-color: #434B5C;\n",
              "      --hover-fill-color: #FFFFFF;\n",
              "      --disabled-bg-color: #3B4455;\n",
              "      --disabled-fill-color: #666;\n",
              "  }\n",
              "\n",
              "  .colab-df-quickchart {\n",
              "    background-color: var(--bg-color);\n",
              "    border: none;\n",
              "    border-radius: 50%;\n",
              "    cursor: pointer;\n",
              "    display: none;\n",
              "    fill: var(--fill-color);\n",
              "    height: 32px;\n",
              "    padding: 0;\n",
              "    width: 32px;\n",
              "  }\n",
              "\n",
              "  .colab-df-quickchart:hover {\n",
              "    background-color: var(--hover-bg-color);\n",
              "    box-shadow: 0 1px 2px rgba(60, 64, 67, 0.3), 0 1px 3px 1px rgba(60, 64, 67, 0.15);\n",
              "    fill: var(--button-hover-fill-color);\n",
              "  }\n",
              "\n",
              "  .colab-df-quickchart-complete:disabled,\n",
              "  .colab-df-quickchart-complete:disabled:hover {\n",
              "    background-color: var(--disabled-bg-color);\n",
              "    fill: var(--disabled-fill-color);\n",
              "    box-shadow: none;\n",
              "  }\n",
              "\n",
              "  .colab-df-spinner {\n",
              "    border: 2px solid var(--fill-color);\n",
              "    border-color: transparent;\n",
              "    border-bottom-color: var(--fill-color);\n",
              "    animation:\n",
              "      spin 1s steps(1) infinite;\n",
              "  }\n",
              "\n",
              "  @keyframes spin {\n",
              "    0% {\n",
              "      border-color: transparent;\n",
              "      border-bottom-color: var(--fill-color);\n",
              "      border-left-color: var(--fill-color);\n",
              "    }\n",
              "    20% {\n",
              "      border-color: transparent;\n",
              "      border-left-color: var(--fill-color);\n",
              "      border-top-color: var(--fill-color);\n",
              "    }\n",
              "    30% {\n",
              "      border-color: transparent;\n",
              "      border-left-color: var(--fill-color);\n",
              "      border-top-color: var(--fill-color);\n",
              "      border-right-color: var(--fill-color);\n",
              "    }\n",
              "    40% {\n",
              "      border-color: transparent;\n",
              "      border-right-color: var(--fill-color);\n",
              "      border-top-color: var(--fill-color);\n",
              "    }\n",
              "    60% {\n",
              "      border-color: transparent;\n",
              "      border-right-color: var(--fill-color);\n",
              "    }\n",
              "    80% {\n",
              "      border-color: transparent;\n",
              "      border-right-color: var(--fill-color);\n",
              "      border-bottom-color: var(--fill-color);\n",
              "    }\n",
              "    90% {\n",
              "      border-color: transparent;\n",
              "      border-bottom-color: var(--fill-color);\n",
              "    }\n",
              "  }\n",
              "</style>\n",
              "\n",
              "  <script>\n",
              "    async function quickchart(key) {\n",
              "      const quickchartButtonEl =\n",
              "        document.querySelector('#' + key + ' button');\n",
              "      quickchartButtonEl.disabled = true;  // To prevent multiple clicks.\n",
              "      quickchartButtonEl.classList.add('colab-df-spinner');\n",
              "      try {\n",
              "        const charts = await google.colab.kernel.invokeFunction(\n",
              "            'suggestCharts', [key], {});\n",
              "      } catch (error) {\n",
              "        console.error('Error during call to suggestCharts:', error);\n",
              "      }\n",
              "      quickchartButtonEl.classList.remove('colab-df-spinner');\n",
              "      quickchartButtonEl.classList.add('colab-df-quickchart-complete');\n",
              "    }\n",
              "    (() => {\n",
              "      let quickchartButtonEl =\n",
              "        document.querySelector('#df-f55d8969-c07e-4b20-9375-94ca088838df button');\n",
              "      quickchartButtonEl.style.display =\n",
              "        google.colab.kernel.accessAllowed ? 'block' : 'none';\n",
              "    })();\n",
              "  </script>\n",
              "</div>\n",
              "    </div>\n",
              "  </div>\n"
            ]
          },
          "metadata": {},
          "execution_count": 116
        }
      ],
      "source": [
        "### YOUR CODE HERE ###\n",
        "data.groupby(\"Alive\").agg([\"mean\",\"max\"], numeric_only = True)['Age']"
      ]
    },
    {
      "cell_type": "markdown",
      "metadata": {
        "id": "1TWFyDfjjvyW"
      },
      "source": [
        "## Часть 3: парсинг HTML (10 баллов)"
      ]
    },
    {
      "cell_type": "markdown",
      "metadata": {
        "id": "TnUkhHkHjvyW"
      },
      "source": [
        "Квиддич как своеобразный вид спорта существует и в реальном мире, только на метлах там не летают. Популярен этот спорт среди студентов.\n",
        "\n",
        "Итак, дана страница с клубами по квиддичу в Великобритании: https://quadballuk.org/clubs.\n",
        "\n",
        "Вам необходимо с этой страницы забрать:\n",
        "\n",
        "* названия клубов;\n",
        "* соответствующие им университеты или организации;\n",
        "* полученные клубами звания, то есть медали.\n",
        "\n",
        "Код страницы для восприятия довольно тяжел (фрагменты стилевого кода вписаны прямо в HTML, это ужасно), хотя в чистом виде структуры у страницы несложная. Очень рекомендуется использовать поиск по странице, без него находить элементы среди стилевых настроек CSS неудобно.\n",
        "\n",
        "Для упрощения жизни рекомендуемая стратегия поиска информации:\n",
        "\n",
        "1. Определить, в каких разделах (с какими тэгами и атрибутами) хранится информация по каждому клубу. То есть, понять какими элементами на странице представлены «карточки» клубов с фото и подписями.\n",
        "2. Собрать все «карточки» в список. В каждой карточке найти по тэгам/атрибутам названия клубов, названия университетов/организаций, полученные награды.\n",
        "\n",
        "Если планируете собрать только часть информации, стратегия может быть любой, но вот если доберетесь до наград, то есть ссылок на картинки с медалями, описанный выше механизм очень поможет, потому что найти названия клубов и названия университетов можно совершенно независимо (их одинаковое количество), а вот с медалями так не получится (у кого-то они есть, у кого-то их нет, да и количество наград разное)."
      ]
    },
    {
      "cell_type": "markdown",
      "metadata": {
        "id": "_spG2dadjvyW"
      },
      "source": [
        "### Задача 1 (1 балл)\n",
        "\n",
        "Используя возможности `requests` и `bs4`, сохраните в переменную `soup` объект типа `BeautifulSoup` с исходным кодом изучаемой страницы."
      ]
    },
    {
      "cell_type": "code",
      "execution_count": null,
      "metadata": {
        "nbgrader": {
          "grade": false,
          "grade_id": "cell-96005b9681c0fda2",
          "locked": false,
          "schema_version": 3,
          "solution": true,
          "task": false
        },
        "id": "VAaiBYWljvyX"
      },
      "outputs": [],
      "source": [
        "### YOUR CODE HERE ###"
      ]
    },
    {
      "cell_type": "markdown",
      "metadata": {
        "id": "TW8XXppZjvyX"
      },
      "source": [
        "### Задача 2 (2 балла)\n",
        "\n",
        "Сохраните в список `names` названия клубов. Это должен быть список из 36 строк (объектов типа `string`).\n",
        "\n",
        "Первые три элемента списка для определенности:\n",
        "\n",
        "    'Bangor Broken Broomsticks',\n",
        "    'Birmingham Badgers',\n",
        "    'Bristol Quadball Club'"
      ]
    },
    {
      "cell_type": "code",
      "execution_count": null,
      "metadata": {
        "nbgrader": {
          "grade": false,
          "grade_id": "cell-55674a874ddf0491",
          "locked": false,
          "schema_version": 3,
          "solution": true,
          "task": false
        },
        "id": "3fY86O39jvyX"
      },
      "outputs": [],
      "source": [
        "### YOUR CODE HERE ###"
      ]
    },
    {
      "cell_type": "markdown",
      "metadata": {
        "id": "_X7VtdxkjvyY"
      },
      "source": [
        "### Задача 3 (2 балла)\n",
        "\n",
        "Сохраните в список `orgs` названия университетов/организаций, с которыми аффилированы клубы. Это должен быть список из 36 строк (объектов типа `string`).\n",
        "\n",
        "Первые три элемента списка для определенности:\n",
        "\n",
        "    'Bangor University',\n",
        "    'Selly Oak Park, Birmingham',\n",
        "    'Clifton Downs'"
      ]
    },
    {
      "cell_type": "code",
      "execution_count": null,
      "metadata": {
        "nbgrader": {
          "grade": false,
          "grade_id": "cell-99e8f9ed6d9635ea",
          "locked": false,
          "schema_version": 3,
          "solution": true,
          "task": false
        },
        "id": "3wiLBZRyjvyY"
      },
      "outputs": [],
      "source": [
        "### YOUR CODE HERE ###"
      ]
    },
    {
      "cell_type": "markdown",
      "metadata": {
        "id": "xVD6z4UEjvyY"
      },
      "source": [
        "### Задача 4 (4 балла)\n",
        "\n",
        "Сохраните в список `medals` награды, полученные клубами. Это должен быть список из 36 списков (среди них пустые, если клуб наград не получал).\n",
        "\n",
        "Первые пять элементов списка для определенности:\n",
        "\n",
        "    ['British Quadball Cup Bronze Medalists', 'Development Cup Bronze Medalists'],\n",
        "    [],\n",
        "    ['British Quadball Cup Silver Medalists', 'Southern Cup Bronze Medalists'],\n",
        "    [],\n",
        "    ['Development Cup Bronze Medalists'],\n",
        "    ['Northern Cup Silver Medalists', 'British Quadball Cup Bronze Medalists'],"
      ]
    },
    {
      "cell_type": "code",
      "execution_count": null,
      "metadata": {
        "nbgrader": {
          "grade": false,
          "grade_id": "cell-67ea43c661e096ce",
          "locked": false,
          "schema_version": 3,
          "solution": true,
          "task": false
        },
        "id": "k3Xi_tlHjvyZ"
      },
      "outputs": [],
      "source": [
        "### YOUR CODE HERE ###"
      ]
    },
    {
      "cell_type": "markdown",
      "metadata": {
        "id": "AqgTjQb5jvyZ"
      },
      "source": [
        "### Задача 5 (1 балл)\n",
        "\n",
        "Объедините полученные списки в словарь, а затем – в датафрейм pandas, чтобы получилась аккуратная табличка из 36 строк и 3 столбцов."
      ]
    },
    {
      "cell_type": "code",
      "execution_count": null,
      "metadata": {
        "nbgrader": {
          "grade": false,
          "grade_id": "cell-e12b0d0feabf57be",
          "locked": false,
          "schema_version": 3,
          "solution": true,
          "task": false
        },
        "id": "v36A00JQjvya"
      },
      "outputs": [],
      "source": [
        "### YOUR CODE HERE ###"
      ]
    }
  ],
  "metadata": {
    "celltoolbar": "Create Assignment",
    "kernelspec": {
      "display_name": "Python 3",
      "language": "python",
      "name": "python3"
    },
    "language_info": {
      "codemirror_mode": {
        "name": "ipython",
        "version": 3
      },
      "file_extension": ".py",
      "mimetype": "text/x-python",
      "name": "python",
      "nbconvert_exporter": "python",
      "pygments_lexer": "ipython3",
      "version": "3.7.4"
    },
    "colab": {
      "provenance": []
    }
  },
  "nbformat": 4,
  "nbformat_minor": 0
}